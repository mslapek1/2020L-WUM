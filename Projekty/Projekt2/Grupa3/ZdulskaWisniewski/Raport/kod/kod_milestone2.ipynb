{
 "cells": [
  {
   "cell_type": "markdown",
   "metadata": {},
   "source": [
    "# Pierwsze modele"
   ]
  },
  {
   "cell_type": "code",
   "execution_count": 13,
   "metadata": {},
   "outputs": [],
   "source": [
    "from sklearn.feature_extraction.text import TfidfTransformer, TfidfVectorizer, CountVectorizer\n",
    "from sklearn.metrics.cluster import homogeneity_score, completeness_score, v_measure_score\n",
    "from get_nice_text import *\n",
    "\n",
    "import pandas as pd\n",
    "import re\n",
    "import numpy as np\n",
    "\n",
    "from sklearn.cluster import KMeans\n",
    "from sklearn.cluster import AgglomerativeClustering, DBSCAN, MiniBatchKMeans, MeanShift, SpectralClustering\n",
    "from sklearn.mixture import GaussianMixture"
   ]
  },
  {
   "cell_type": "code",
   "execution_count": 2,
   "metadata": {},
   "outputs": [],
   "source": [
    "def train_fast(df, Model, labels, **kwargs):\n",
    "    \"\"\"\n",
    "    Trenuje Model na sparse matrix df\n",
    "    @example\n",
    "    train fast(df, KMeans, n_clusters=8)\n",
    "    \"\"\"\n",
    "    trans = TfidfTransformer()\n",
    "    df_trans = trans.fit_transform(df)\n",
    "    model = Model(**kwargs)\n",
    "    lab = model.fit_predict(df_trans)\n",
    "    \n",
    "    ret = {}\n",
    "    \n",
    "    ret[\"homogeneity_score\"] = homogeneity_score(labels, lab)\n",
    "    ret[\"completeness_score\"] = completeness_score(labels, lab)\n",
    "    ret[\"v_measure_score\"] = v_measure_score(labels, lab)\n",
    "    \n",
    "    return lab, ret"
   ]
  },
  {
   "cell_type": "code",
   "execution_count": 3,
   "metadata": {},
   "outputs": [],
   "source": [
    "df = get_nice_text()\n",
    "labels = get_labels(True)\n",
    "np.random.seed(123)"
   ]
  },
  {
   "cell_type": "markdown",
   "metadata": {},
   "source": [
    "Naiwne podejście - sam wordbag dajmy do pogrupowania, Biblię mergujemy"
   ]
  },
  {
   "cell_type": "code",
   "execution_count": 37,
   "metadata": {},
   "outputs": [
    {
     "data": {
      "text/plain": [
       "{'homogeneity_score': 0.3320610459866629,\n",
       " 'completeness_score': 0.4986041642194423,\n",
       " 'v_measure_score': 0.39863718443904317}"
      ]
     },
     "execution_count": 37,
     "metadata": {},
     "output_type": "execute_result"
    }
   ],
   "source": [
    "cv = CountVectorizer()\n",
    "df_count = cv.fit_transform(df)\n",
    "\n",
    "model = KMeans(n_clusters=5, random_state=123)\n",
    "\n",
    "lab = model.fit_predict(df_count)\n",
    "ret = {}\n",
    "    \n",
    "ret[\"homogeneity_score\"] = homogeneity_score(labels, lab)\n",
    "ret[\"completeness_score\"] = completeness_score(labels, lab)\n",
    "ret[\"v_measure_score\"] = v_measure_score(labels, lab)\n",
    "ret"
   ]
  },
  {
   "cell_type": "markdown",
   "metadata": {},
   "source": [
    "Bardzo słabo. Dodajmy TfidfTransformer."
   ]
  },
  {
   "cell_type": "code",
   "execution_count": 38,
   "metadata": {},
   "outputs": [
    {
     "data": {
      "text/plain": [
       "{'homogeneity_score': 0.5504130721916395,\n",
       " 'completeness_score': 0.5575716186373115,\n",
       " 'v_measure_score': 0.5539692201909778}"
      ]
     },
     "execution_count": 38,
     "metadata": {},
     "output_type": "execute_result"
    }
   ],
   "source": [
    "cv = CountVectorizer()\n",
    "df_count = cv.fit_transform(df)\n",
    "\n",
    "lab, scores = train_fast(df_count, KMeans, get_labels(True), n_clusters=5, random_state = 123)\n",
    "scores"
   ]
  },
  {
   "cell_type": "markdown",
   "metadata": {},
   "source": [
    "Lepiej, przekroczyliśmy losowość 0.5. Weżmy pod uwagę stopwords"
   ]
  },
  {
   "cell_type": "code",
   "execution_count": 41,
   "metadata": {},
   "outputs": [
    {
     "data": {
      "text/plain": [
       "{'homogeneity_score': 0.5499682967296581,\n",
       " 'completeness_score': 0.6450909053251002,\n",
       " 'v_measure_score': 0.5937438845329811}"
      ]
     },
     "execution_count": 41,
     "metadata": {},
     "output_type": "execute_result"
    }
   ],
   "source": [
    "cv = CountVectorizer(stop_words = 'english')\n",
    "df_count = cv.fit_transform(df)\n",
    "\n",
    "lab, scores = train_fast(df_count, KMeans, get_labels(True), n_clusters=5, random_state = 123)\n",
    "scores"
   ]
  },
  {
   "cell_type": "markdown",
   "metadata": {},
   "source": [
    "Zobaczmy jeszcze czy mergowanie Bibli coś daje"
   ]
  },
  {
   "cell_type": "code",
   "execution_count": 28,
   "metadata": {},
   "outputs": [
    {
     "data": {
      "text/plain": [
       "{'homogeneity_score': 0.5073841435249417,\n",
       " 'completeness_score': 0.4465988909388149,\n",
       " 'v_measure_score': 0.475054980208431}"
      ]
     },
     "execution_count": 28,
     "metadata": {},
     "output_type": "execute_result"
    }
   ],
   "source": [
    "cv = CountVectorizer(stop_words = 'english')\n",
    "df_count = cv.fit_transform(df)\n",
    "\n",
    "lab, scores = train_fast(df_count, KMeans, get_labels(False), n_clusters=8, random_state = 123)\n",
    "scores"
   ]
  },
  {
   "cell_type": "markdown",
   "metadata": {},
   "source": [
    "Jak widać tak"
   ]
  },
  {
   "cell_type": "markdown",
   "metadata": {},
   "source": [
    "# Entities\n",
    "Jako vocabulary dodajmy tylko enitities"
   ]
  },
  {
   "cell_type": "code",
   "execution_count": 71,
   "metadata": {},
   "outputs": [],
   "source": [
    "def get_entities(data):\n",
    "\n",
    "    entities_list = []\n",
    "    \n",
    "    for i in range(len(data)):\n",
    "        \n",
    "        chapter = str(data[i])\n",
    "        doc = nlp(chapter) \n",
    "\n",
    "        for ent in doc.ents: \n",
    "            entities_list.append(ent.text)\n",
    "    \n",
    "    return entities_list"
   ]
  },
  {
   "cell_type": "code",
   "execution_count": 87,
   "metadata": {},
   "outputs": [],
   "source": [
    "import spacy \n",
    "nlp = spacy.load('en_core_web_sm') \n",
    "ent = get_entities(df)"
   ]
  },
  {
   "cell_type": "code",
   "execution_count": 96,
   "metadata": {},
   "outputs": [],
   "source": [
    "from collections import defaultdict \n",
    "  \n",
    "LABELS_DICT = defaultdict(set) \n",
    "\n",
    "for word in df:\n",
    "    doc = nlp(str(word))\n",
    "\n",
    "    for e in doc.ents:\n",
    "        LABELS_DICT[e.label_].add(e.text)"
   ]
  },
  {
   "cell_type": "code",
   "execution_count": 110,
   "metadata": {},
   "outputs": [],
   "source": [
    "LABELS_DICT.keys()\n",
    "all_nlp = []\n",
    "for key in LABELS_DICT.keys():\n",
    "    all_nlp += list(LABELS_DICT[key])\n",
    "    \n",
    "#remove duplicates\n",
    "all_nlp = list(set(all_nlp))"
   ]
  },
  {
   "cell_type": "code",
   "execution_count": 111,
   "metadata": {},
   "outputs": [
    {
     "data": {
      "text/plain": [
       "{'homogeneity_score': 0.11897558584368266,\n",
       " 'completeness_score': 0.22483275054993732,\n",
       " 'v_measure_score': 0.15560767661491615}"
      ]
     },
     "execution_count": 111,
     "metadata": {},
     "output_type": "execute_result"
    }
   ],
   "source": [
    "cv = CountVectorizer(vocabulary=all_nlp)\n",
    "df_count = cv.fit_transform(df)\n",
    "\n",
    "model = KMeans(n_clusters=5, random_state=123)\n",
    "\n",
    "lab = model.fit_predict(df_count)\n",
    "ret = {}\n",
    "    \n",
    "ret[\"homogeneity_score\"] = homogeneity_score(labels, lab)\n",
    "ret[\"completeness_score\"] = completeness_score(labels, lab)\n",
    "ret[\"v_measure_score\"] = v_measure_score(labels, lab)\n",
    "ret"
   ]
  },
  {
   "cell_type": "markdown",
   "metadata": {},
   "source": [
    "Słabo, dodajmy stop_words"
   ]
  },
  {
   "cell_type": "code",
   "execution_count": 112,
   "metadata": {},
   "outputs": [
    {
     "data": {
      "text/plain": [
       "{'homogeneity_score': 0.14612903898906285,\n",
       " 'completeness_score': 0.39871032617470714,\n",
       " 'v_measure_score': 0.21387278718898287}"
      ]
     },
     "execution_count": 112,
     "metadata": {},
     "output_type": "execute_result"
    }
   ],
   "source": [
    "cv = CountVectorizer(vocabulary=all_nlp, stop_words='english')\n",
    "df_count = cv.fit_transform(df)\n",
    "\n",
    "model = KMeans(n_clusters=5, random_state=123)\n",
    "\n",
    "lab = model.fit_predict(df_count)\n",
    "ret = {}\n",
    "    \n",
    "ret[\"homogeneity_score\"] = homogeneity_score(labels, lab)\n",
    "ret[\"completeness_score\"] = completeness_score(labels, lab)\n",
    "ret[\"v_measure_score\"] = v_measure_score(labels, lab)\n",
    "ret"
   ]
  },
  {
   "cell_type": "markdown",
   "metadata": {},
   "source": [
    "Niewiele lepiej"
   ]
  },
  {
   "cell_type": "markdown",
   "metadata": {},
   "source": [
    "## Inne modele\n",
    "### AgglomerativeClustering\n",
    "z argumentem linkage{“ward”, “complete”, “average”, “single”}"
   ]
  },
  {
   "cell_type": "code",
   "execution_count": 6,
   "metadata": {},
   "outputs": [],
   "source": [
    "cv = CountVectorizer(stop_words = 'english')\n",
    "df_count = cv.fit_transform(df)"
   ]
  },
  {
   "cell_type": "code",
   "execution_count": 8,
   "metadata": {},
   "outputs": [],
   "source": [
    "def train_fast(df, Model, labels, **kwargs):\n",
    "    \"\"\"\n",
    "    Trenuje Model na sparse matrix df\n",
    "    @example\n",
    "    train fast(df, KMeans, n_clusters=8)\n",
    "    \"\"\"\n",
    "    trans = TfidfTransformer()\n",
    "    df_trans = trans.fit_transform(df)\n",
    "    model = Model(**kwargs)\n",
    "    lab = model.fit_predict(df_trans.toarray())\n",
    "    \n",
    "    ret = {}\n",
    "    \n",
    "    ret[\"homogeneity_score\"] = homogeneity_score(labels, lab)\n",
    "    ret[\"completeness_score\"] = completeness_score(labels, lab)\n",
    "    ret[\"v_measure_score\"] = v_measure_score(labels, lab)\n",
    "    \n",
    "    return lab, ret"
   ]
  },
  {
   "cell_type": "code",
   "execution_count": 12,
   "metadata": {},
   "outputs": [
    {
     "data": {
      "text/plain": [
       "{'homogeneity_score': 0.572923993295591,\n",
       " 'completeness_score': 0.6047451991605944,\n",
       " 'v_measure_score': 0.5884046838430234}"
      ]
     },
     "execution_count": 12,
     "metadata": {},
     "output_type": "execute_result"
    }
   ],
   "source": [
    "cv = CountVectorizer(stop_words = 'english')\n",
    "df_count = cv.fit_transform(df)\n",
    "\n",
    "lab, scores = train_fast(df_count, AgglomerativeClustering, get_labels(True), n_clusters=5)\n",
    "scores"
   ]
  },
  {
   "cell_type": "code",
   "execution_count": 11,
   "metadata": {
    "scrolled": true
   },
   "outputs": [
    {
     "data": {
      "text/plain": [
       "{'homogeneity_score': 0.3970246607100051,\n",
       " 'completeness_score': 0.4687726141023961,\n",
       " 'v_measure_score': 0.42992578858479946}"
      ]
     },
     "execution_count": 11,
     "metadata": {},
     "output_type": "execute_result"
    }
   ],
   "source": [
    "lab, scores = train_fast(df_count, AgglomerativeClustering, get_labels(True), n_clusters=5, linkage =  \"complete\")\n",
    "scores"
   ]
  },
  {
   "cell_type": "code",
   "execution_count": 10,
   "metadata": {},
   "outputs": [
    {
     "data": {
      "text/plain": [
       "{'homogeneity_score': 0.20293471924776588,\n",
       " 'completeness_score': 0.6412603791279626,\n",
       " 'v_measure_score': 0.3083031286332579}"
      ]
     },
     "execution_count": 10,
     "metadata": {},
     "output_type": "execute_result"
    }
   ],
   "source": [
    "lab, scores = train_fast(df_count, AgglomerativeClustering, get_labels(True), n_clusters=5, linkage =  \"average\")\n",
    "scores"
   ]
  },
  {
   "cell_type": "code",
   "execution_count": 9,
   "metadata": {},
   "outputs": [
    {
     "data": {
      "text/plain": [
       "{'homogeneity_score': 0.007543664124885699,\n",
       " 'completeness_score': 0.22724173007689247,\n",
       " 'v_measure_score': 0.014602571788471418}"
      ]
     },
     "execution_count": 9,
     "metadata": {},
     "output_type": "execute_result"
    }
   ],
   "source": [
    "lab, scores = train_fast(df_count, AgglomerativeClustering, get_labels(True), n_clusters=5, linkage =  \"single\")\n",
    "scores"
   ]
  },
  {
   "cell_type": "markdown",
   "metadata": {},
   "source": [
    "Coraz gorzej"
   ]
  },
  {
   "cell_type": "markdown",
   "metadata": {},
   "source": [
    "### DBSCAN"
   ]
  },
  {
   "cell_type": "code",
   "execution_count": 51,
   "metadata": {
    "scrolled": true
   },
   "outputs": [
    {
     "data": {
      "text/plain": [
       "{'homogeneity_score': -4.2374126293898904e-16,\n",
       " 'completeness_score': 1.0,\n",
       " 'v_measure_score': -8.474825258779785e-16}"
      ]
     },
     "execution_count": 51,
     "metadata": {},
     "output_type": "execute_result"
    }
   ],
   "source": [
    "lab, scores = train_fast(df_count, DBSCAN, get_labels(True), eps = 0.4, metric = 'manhattan')\n",
    "scores"
   ]
  },
  {
   "cell_type": "code",
   "execution_count": 48,
   "metadata": {},
   "outputs": [
    {
     "data": {
      "text/plain": [
       "array([-1, -1, -1, -1, -1, -1, -1, -1, -1, -1, -1, -1, -1, -1, -1, -1, -1,\n",
       "       -1, -1, -1, -1, -1, -1, -1, -1, -1, -1, -1, -1, -1, -1, -1, -1, -1,\n",
       "       -1, -1, -1, -1, -1, -1, -1, -1, -1, -1, -1, -1, -1, -1, -1, -1, -1,\n",
       "       -1, -1, -1, -1, -1, -1, -1, -1, -1, -1, -1, -1, -1, -1, -1, -1, -1,\n",
       "       -1, -1, -1, -1, -1, -1, -1, -1, -1, -1, -1, -1, -1, -1, -1, -1, -1,\n",
       "       -1, -1, -1, -1, -1, -1, -1, -1, -1, -1, -1, -1, -1, -1, -1, -1, -1,\n",
       "       -1, -1, -1, -1, -1, -1, -1, -1, -1, -1, -1, -1, -1, -1, -1, -1, -1,\n",
       "       -1, -1, -1, -1, -1, -1, -1, -1, -1, -1, -1, -1, -1, -1, -1, -1, -1,\n",
       "       -1, -1, -1, -1, -1, -1, -1, -1, -1, -1, -1, -1, -1, -1, -1, -1, -1,\n",
       "       -1, -1, -1, -1, -1, -1, -1, -1, -1, -1, -1, -1, -1, -1, -1, -1, -1,\n",
       "       -1, -1, -1, -1, -1, -1, -1, -1, -1, -1, -1, -1, -1, -1, -1, -1, -1,\n",
       "       -1, -1, -1, -1, -1, -1, -1, -1, -1, -1, -1, -1, -1, -1, -1, -1, -1,\n",
       "       -1, -1, -1, -1, -1, -1, -1, -1, -1, -1, -1, -1, -1, -1, -1, -1, -1,\n",
       "       -1, -1, -1, -1, -1, -1, -1, -1, -1, -1, -1, -1, -1, -1, -1, -1, -1,\n",
       "       -1, -1, -1, -1, -1, -1, -1, -1, -1, -1, -1, -1, -1, -1, -1, -1, -1,\n",
       "       -1, -1, -1, -1, -1, -1, -1, -1, -1, -1, -1, -1, -1, -1, -1, -1, -1,\n",
       "       -1, -1, -1, -1, -1, -1, -1, -1, -1, -1, -1, -1, -1, -1, -1, -1, -1,\n",
       "       -1, -1, -1, -1, -1, -1, -1, -1, -1, -1, -1, -1, -1, -1, -1, -1, -1,\n",
       "       -1, -1, -1, -1, -1, -1, -1, -1, -1, -1, -1, -1, -1, -1, -1, -1, -1,\n",
       "       -1, -1, -1, -1, -1, -1, -1, -1, -1, -1, -1, -1, -1, -1, -1, -1, -1,\n",
       "       -1, -1, -1, -1, -1, -1, -1, -1, -1, -1, -1, -1, -1, -1, -1, -1, -1,\n",
       "       -1, -1, -1, -1, -1, -1, -1, -1, -1, -1, -1, -1, -1, -1, -1, -1, -1,\n",
       "       -1, -1, -1, -1, -1, -1, -1, -1, -1, -1, -1, -1, -1, -1, -1, -1, -1,\n",
       "       -1, -1, -1, -1, -1, -1, -1, -1, -1, -1, -1, -1, -1, -1, -1, -1, -1,\n",
       "       -1, -1, -1, -1, -1, -1, -1, -1, -1, -1, -1, -1, -1, -1, -1, -1, -1,\n",
       "       -1, -1, -1, -1, -1, -1, -1, -1, -1, -1, -1, -1, -1, -1, -1, -1, -1,\n",
       "       -1, -1, -1, -1, -1, -1, -1, -1, -1, -1, -1, -1, -1, -1, -1, -1, -1,\n",
       "       -1, -1, -1, -1, -1, -1, -1, -1, -1, -1, -1, -1, -1, -1, -1, -1, -1,\n",
       "       -1, -1, -1, -1, -1, -1, -1, -1, -1, -1, -1, -1, -1, -1, -1, -1, -1,\n",
       "       -1, -1, -1, -1, -1, -1, -1, -1, -1, -1, -1, -1, -1, -1, -1, -1, -1,\n",
       "       -1, -1, -1, -1, -1, -1, -1, -1, -1, -1, -1, -1, -1, -1, -1, -1, -1,\n",
       "       -1, -1, -1, -1, -1, -1, -1, -1, -1, -1, -1, -1, -1, -1, -1, -1, -1,\n",
       "       -1, -1, -1, -1, -1, -1, -1, -1, -1, -1, -1, -1, -1, -1, -1, -1, -1,\n",
       "       -1, -1, -1, -1, -1, -1, -1, -1, -1, -1, -1, -1, -1, -1, -1, -1, -1,\n",
       "       -1, -1, -1, -1, -1, -1, -1, -1, -1, -1, -1, -1])"
      ]
     },
     "execution_count": 48,
     "metadata": {},
     "output_type": "execute_result"
    }
   ],
   "source": [
    "lab"
   ]
  },
  {
   "cell_type": "markdown",
   "metadata": {},
   "source": [
    "Cluster labels for each point in the dataset given to fit(). Noisy samples are given the label -1."
   ]
  },
  {
   "cell_type": "markdown",
   "metadata": {},
   "source": [
    "## no dobra, a jak będziemy grupować po 8?\n",
    "### AgglomerativeClustering"
   ]
  },
  {
   "cell_type": "code",
   "execution_count": 33,
   "metadata": {},
   "outputs": [
    {
     "data": {
      "text/plain": [
       "{'homogeneity_score': 0.5594447643120913,\n",
       " 'completeness_score': 0.5330019854326977,\n",
       " 'v_measure_score': 0.5459033498665863}"
      ]
     },
     "execution_count": 33,
     "metadata": {},
     "output_type": "execute_result"
    }
   ],
   "source": [
    "cv = CountVectorizer(stop_words = 'english')\n",
    "df_count = cv.fit_transform(df)\n",
    "\n",
    "lab, scores = train_fast(df_count, AgglomerativeClustering, get_labels(False), n_clusters=8)\n",
    "scores"
   ]
  },
  {
   "cell_type": "code",
   "execution_count": 34,
   "metadata": {
    "scrolled": true
   },
   "outputs": [
    {
     "data": {
      "text/plain": [
       "{'homogeneity_score': 0.40259838528734326,\n",
       " 'completeness_score': 0.35210201942854397,\n",
       " 'v_measure_score': 0.37566086778954255}"
      ]
     },
     "execution_count": 34,
     "metadata": {},
     "output_type": "execute_result"
    }
   ],
   "source": [
    "lab, scores = train_fast(df_count, AgglomerativeClustering, get_labels(False), n_clusters=8, linkage =  \"complete\")\n",
    "scores"
   ]
  },
  {
   "cell_type": "code",
   "execution_count": 35,
   "metadata": {},
   "outputs": [
    {
     "data": {
      "text/plain": [
       "{'homogeneity_score': 0.2370086420254117,\n",
       " 'completeness_score': 0.5045610676796211,\n",
       " 'v_measure_score': 0.32251946622039124}"
      ]
     },
     "execution_count": 35,
     "metadata": {},
     "output_type": "execute_result"
    }
   ],
   "source": [
    "lab, scores = train_fast(df_count, AgglomerativeClustering, get_labels(False), n_clusters=8, linkage =  \"average\")\n",
    "scores"
   ]
  },
  {
   "cell_type": "code",
   "execution_count": 36,
   "metadata": {},
   "outputs": [
    {
     "data": {
      "text/plain": [
       "{'homogeneity_score': 0.02146117023707067,\n",
       " 'completeness_score': 0.4280269739509705,\n",
       " 'v_measure_score': 0.040872979066504986}"
      ]
     },
     "execution_count": 36,
     "metadata": {},
     "output_type": "execute_result"
    }
   ],
   "source": [
    "lab, scores = train_fast(df_count, AgglomerativeClustering, get_labels(False), n_clusters=8, linkage =  \"single\")\n",
    "scores"
   ]
  },
  {
   "cell_type": "markdown",
   "metadata": {},
   "source": [
    "Still bad, ale minimalnie lepiej niż po 5"
   ]
  },
  {
   "cell_type": "markdown",
   "metadata": {},
   "source": [
    "### GaussianMixture"
   ]
  },
  {
   "cell_type": "code",
   "execution_count": 15,
   "metadata": {
    "scrolled": true
   },
   "outputs": [
    {
     "ename": "KeyboardInterrupt",
     "evalue": "",
     "output_type": "error",
     "traceback": [
      "\u001b[0;31m---------------------------------------------------------------------------\u001b[0m",
      "\u001b[0;31mKeyboardInterrupt\u001b[0m                         Traceback (most recent call last)",
      "\u001b[0;32m<ipython-input-15-2f39d184a373>\u001b[0m in \u001b[0;36m<module>\u001b[0;34m\u001b[0m\n\u001b[0;32m----> 1\u001b[0;31m \u001b[0mlab\u001b[0m\u001b[0;34m,\u001b[0m \u001b[0mscores\u001b[0m \u001b[0;34m=\u001b[0m \u001b[0mtrain_fast\u001b[0m\u001b[0;34m(\u001b[0m\u001b[0mdf_count\u001b[0m\u001b[0;34m,\u001b[0m \u001b[0mGaussianMixture\u001b[0m\u001b[0;34m,\u001b[0m \u001b[0mget_labels\u001b[0m\u001b[0;34m(\u001b[0m\u001b[0;32mFalse\u001b[0m\u001b[0;34m)\u001b[0m\u001b[0;34m,\u001b[0m \u001b[0mn_components\u001b[0m\u001b[0;34m=\u001b[0m\u001b[0;36m8\u001b[0m\u001b[0;34m)\u001b[0m\u001b[0;34m\u001b[0m\u001b[0;34m\u001b[0m\u001b[0m\n\u001b[0m\u001b[1;32m      2\u001b[0m \u001b[0mscores\u001b[0m\u001b[0;34m\u001b[0m\u001b[0;34m\u001b[0m\u001b[0m\n",
      "\u001b[0;32m<ipython-input-8-ba049c139c85>\u001b[0m in \u001b[0;36mtrain_fast\u001b[0;34m(df, Model, labels, **kwargs)\u001b[0m\n\u001b[1;32m      8\u001b[0m     \u001b[0mdf_trans\u001b[0m \u001b[0;34m=\u001b[0m \u001b[0mtrans\u001b[0m\u001b[0;34m.\u001b[0m\u001b[0mfit_transform\u001b[0m\u001b[0;34m(\u001b[0m\u001b[0mdf\u001b[0m\u001b[0;34m)\u001b[0m\u001b[0;34m\u001b[0m\u001b[0;34m\u001b[0m\u001b[0m\n\u001b[1;32m      9\u001b[0m     \u001b[0mmodel\u001b[0m \u001b[0;34m=\u001b[0m \u001b[0mModel\u001b[0m\u001b[0;34m(\u001b[0m\u001b[0;34m**\u001b[0m\u001b[0mkwargs\u001b[0m\u001b[0;34m)\u001b[0m\u001b[0;34m\u001b[0m\u001b[0;34m\u001b[0m\u001b[0m\n\u001b[0;32m---> 10\u001b[0;31m     \u001b[0mlab\u001b[0m \u001b[0;34m=\u001b[0m \u001b[0mmodel\u001b[0m\u001b[0;34m.\u001b[0m\u001b[0mfit_predict\u001b[0m\u001b[0;34m(\u001b[0m\u001b[0mdf_trans\u001b[0m\u001b[0;34m.\u001b[0m\u001b[0mtoarray\u001b[0m\u001b[0;34m(\u001b[0m\u001b[0;34m)\u001b[0m\u001b[0;34m)\u001b[0m\u001b[0;34m\u001b[0m\u001b[0;34m\u001b[0m\u001b[0m\n\u001b[0m\u001b[1;32m     11\u001b[0m \u001b[0;34m\u001b[0m\u001b[0m\n\u001b[1;32m     12\u001b[0m     \u001b[0mret\u001b[0m \u001b[0;34m=\u001b[0m \u001b[0;34m{\u001b[0m\u001b[0;34m}\u001b[0m\u001b[0;34m\u001b[0m\u001b[0;34m\u001b[0m\u001b[0m\n",
      "\u001b[0;32m~/.pyenv/versions/3.7.1/lib/python3.7/site-packages/sklearn/mixture/_base.py\u001b[0m in \u001b[0;36mfit_predict\u001b[0;34m(self, X, y)\u001b[0m\n\u001b[1;32m    267\u001b[0m                           % (init + 1), ConvergenceWarning)\n\u001b[1;32m    268\u001b[0m \u001b[0;34m\u001b[0m\u001b[0m\n\u001b[0;32m--> 269\u001b[0;31m         \u001b[0mself\u001b[0m\u001b[0;34m.\u001b[0m\u001b[0m_set_parameters\u001b[0m\u001b[0;34m(\u001b[0m\u001b[0mbest_params\u001b[0m\u001b[0;34m)\u001b[0m\u001b[0;34m\u001b[0m\u001b[0;34m\u001b[0m\u001b[0m\n\u001b[0m\u001b[1;32m    270\u001b[0m         \u001b[0mself\u001b[0m\u001b[0;34m.\u001b[0m\u001b[0mn_iter_\u001b[0m \u001b[0;34m=\u001b[0m \u001b[0mbest_n_iter\u001b[0m\u001b[0;34m\u001b[0m\u001b[0;34m\u001b[0m\u001b[0m\n\u001b[1;32m    271\u001b[0m         \u001b[0mself\u001b[0m\u001b[0;34m.\u001b[0m\u001b[0mlower_bound_\u001b[0m \u001b[0;34m=\u001b[0m \u001b[0mmax_lower_bound\u001b[0m\u001b[0;34m\u001b[0m\u001b[0;34m\u001b[0m\u001b[0m\n",
      "\u001b[0;32m~/.pyenv/versions/3.7.1/lib/python3.7/site-packages/sklearn/mixture/_gaussian_mixture.py\u001b[0m in \u001b[0;36m_set_parameters\u001b[0;34m(self, params)\u001b[0m\n\u001b[1;32m    701\u001b[0m             \u001b[0mself\u001b[0m\u001b[0;34m.\u001b[0m\u001b[0mprecisions_\u001b[0m \u001b[0;34m=\u001b[0m \u001b[0mnp\u001b[0m\u001b[0;34m.\u001b[0m\u001b[0mempty\u001b[0m\u001b[0;34m(\u001b[0m\u001b[0mself\u001b[0m\u001b[0;34m.\u001b[0m\u001b[0mprecisions_cholesky_\u001b[0m\u001b[0;34m.\u001b[0m\u001b[0mshape\u001b[0m\u001b[0;34m)\u001b[0m\u001b[0;34m\u001b[0m\u001b[0;34m\u001b[0m\u001b[0m\n\u001b[1;32m    702\u001b[0m             \u001b[0;32mfor\u001b[0m \u001b[0mk\u001b[0m\u001b[0;34m,\u001b[0m \u001b[0mprec_chol\u001b[0m \u001b[0;32min\u001b[0m \u001b[0menumerate\u001b[0m\u001b[0;34m(\u001b[0m\u001b[0mself\u001b[0m\u001b[0;34m.\u001b[0m\u001b[0mprecisions_cholesky_\u001b[0m\u001b[0;34m)\u001b[0m\u001b[0;34m:\u001b[0m\u001b[0;34m\u001b[0m\u001b[0;34m\u001b[0m\u001b[0m\n\u001b[0;32m--> 703\u001b[0;31m                 \u001b[0mself\u001b[0m\u001b[0;34m.\u001b[0m\u001b[0mprecisions_\u001b[0m\u001b[0;34m[\u001b[0m\u001b[0mk\u001b[0m\u001b[0;34m]\u001b[0m \u001b[0;34m=\u001b[0m \u001b[0mnp\u001b[0m\u001b[0;34m.\u001b[0m\u001b[0mdot\u001b[0m\u001b[0;34m(\u001b[0m\u001b[0mprec_chol\u001b[0m\u001b[0;34m,\u001b[0m \u001b[0mprec_chol\u001b[0m\u001b[0;34m.\u001b[0m\u001b[0mT\u001b[0m\u001b[0;34m)\u001b[0m\u001b[0;34m\u001b[0m\u001b[0;34m\u001b[0m\u001b[0m\n\u001b[0m\u001b[1;32m    704\u001b[0m \u001b[0;34m\u001b[0m\u001b[0m\n\u001b[1;32m    705\u001b[0m         \u001b[0;32melif\u001b[0m \u001b[0mself\u001b[0m\u001b[0;34m.\u001b[0m\u001b[0mcovariance_type\u001b[0m \u001b[0;34m==\u001b[0m \u001b[0;34m'tied'\u001b[0m\u001b[0;34m:\u001b[0m\u001b[0;34m\u001b[0m\u001b[0;34m\u001b[0m\u001b[0m\n",
      "\u001b[0;32m<__array_function__ internals>\u001b[0m in \u001b[0;36mdot\u001b[0;34m(*args, **kwargs)\u001b[0m\n",
      "\u001b[0;31mKeyboardInterrupt\u001b[0m: "
     ]
    }
   ],
   "source": [
    "lab, scores = train_fast(df_count, GaussianMixture, get_labels(False), n_components=8)\n",
    "scores"
   ]
  },
  {
   "cell_type": "markdown",
   "metadata": {},
   "source": [
    "Niestety nie zbiega"
   ]
  },
  {
   "cell_type": "markdown",
   "metadata": {},
   "source": [
    "### MiniBatchKMeans"
   ]
  },
  {
   "cell_type": "code",
   "execution_count": 41,
   "metadata": {},
   "outputs": [
    {
     "data": {
      "text/plain": [
       "{'homogeneity_score': 0.5986593612799581,\n",
       " 'completeness_score': 0.5945854116019115,\n",
       " 'v_measure_score': 0.5966154318468916}"
      ]
     },
     "execution_count": 41,
     "metadata": {},
     "output_type": "execute_result"
    }
   ],
   "source": [
    "lab, scores = train_fast(df_count, MiniBatchKMeans, get_labels(False), n_clusters=8)\n",
    "scores"
   ]
  },
  {
   "cell_type": "code",
   "execution_count": 37,
   "metadata": {},
   "outputs": [
    {
     "data": {
      "text/plain": [
       "{'homogeneity_score': 0.5265192377286467,\n",
       " 'completeness_score': 0.5382273166930658,\n",
       " 'v_measure_score': 0.5323089055007681}"
      ]
     },
     "execution_count": 37,
     "metadata": {},
     "output_type": "execute_result"
    }
   ],
   "source": [
    "lab, scores = train_fast(df_count, MiniBatchKMeans, get_labels(True), n_clusters=5)\n",
    "scores"
   ]
  },
  {
   "cell_type": "markdown",
   "metadata": {},
   "source": [
    "## Część 2 - Eksperymenty"
   ]
  },
  {
   "cell_type": "code",
   "execution_count": 1,
   "metadata": {},
   "outputs": [],
   "source": [
    "from collections import Counter\n",
    "from textblob import Word\n",
    "\n",
    "from get_nice_text import *"
   ]
  },
  {
   "cell_type": "code",
   "execution_count": 2,
   "metadata": {},
   "outputs": [],
   "source": [
    "data = get_nice_text()"
   ]
  },
  {
   "cell_type": "markdown",
   "metadata": {},
   "source": [
    "Example: "
   ]
  },
  {
   "cell_type": "code",
   "execution_count": 3,
   "metadata": {},
   "outputs": [
    {
     "name": "stdout",
     "output_type": "stream",
     "text": [
      "Buddha PERSON\n",
      "Rahula PERSON\n",
      "The Buddha Rahula GPE\n",
      "Rahula The Buddha PERSON\n",
      "Rahula GPE\n",
      "The Buddha WORK_OF_ART\n",
      "Rahula PERSON\n",
      "Rahula PERSON\n",
      "Gratified PERSON\n",
      "Rahula PERSON\n"
     ]
    }
   ],
   "source": [
    "import spacy \n",
    "  \n",
    "nlp = spacy.load('en_core_web_sm') \n",
    "  \n",
    "sentence = str(data[0])\n",
    "  \n",
    "doc = nlp(sentence) \n",
    "  \n",
    "for ent in doc.ents: \n",
    "    print(ent.text, ent.label_) "
   ]
  },
  {
   "cell_type": "markdown",
   "metadata": {},
   "source": [
    "Funkcja do szybkiego wyciągnięcia entities"
   ]
  },
  {
   "cell_type": "code",
   "execution_count": 4,
   "metadata": {},
   "outputs": [],
   "source": [
    "def get_entities(data):\n",
    "\n",
    "    def unique(arr): \n",
    "    \n",
    "        un = []\n",
    "\n",
    "        for elem in arr: \n",
    "            if  elem not in un : \n",
    "                un.append(elem)\n",
    "\n",
    "        return un\n",
    "\n",
    "    entities_list = []\n",
    "    for i in range(len(data)):\n",
    "        chapter = str(data[i])\n",
    "        doc = nlp(chapter) \n",
    "\n",
    "        for ent in doc.ents: \n",
    "            extracted_ent = [ent.text, ent.label_]\n",
    "            entities_list.append(extracted_ent)\n",
    "    \n",
    "    out = unique(entities_list)\n",
    "    \n",
    "    return out\n",
    "        "
   ]
  },
  {
   "cell_type": "code",
   "execution_count": 5,
   "metadata": {},
   "outputs": [],
   "source": [
    "gp = get_entities(data)"
   ]
  },
  {
   "cell_type": "code",
   "execution_count": 6,
   "metadata": {},
   "outputs": [
    {
     "data": {
      "text/plain": [
       "[['Buddha', 'PERSON'],\n",
       " ['Rahula', 'PERSON'],\n",
       " ['The Buddha Rahula', 'GPE'],\n",
       " ['Rahula The Buddha', 'PERSON'],\n",
       " ['Rahula', 'GPE'],\n",
       " ['The Buddha', 'WORK_OF_ART'],\n",
       " ['Gratified', 'PERSON'],\n",
       " ['Kosambi', 'GPE'],\n",
       " ['Simsapa', 'PERSON'],\n",
       " ['Birth', 'PERSON'],\n",
       " ['five', 'CARDINAL'],\n",
       " ['one', 'CARDINAL'],\n",
       " ['two', 'CARDINAL'],\n",
       " ['three', 'CARDINAL'],\n",
       " ['twelve', 'CARDINAL'],\n",
       " ['four', 'CARDINAL'],\n",
       " ['Unprovoked', 'GPE'],\n",
       " ['Savatthi', 'ORG'],\n",
       " ['Monks', 'NORP'],\n",
       " ['The Buddha  Clinging', 'WORK_OF_ART'],\n",
       " ['MahaKotthita', 'ORG'],\n",
       " ['MahaKotthita Sariputta', 'PRODUCT'],\n",
       " ['earth', 'LOC'],\n",
       " ['Sariputta', 'PRODUCT'],\n",
       " ['the internal water property', 'ORG'],\n",
       " ['phlegm', 'PERSON'],\n",
       " ['the external water property', 'ORG'],\n",
       " ['windy', 'PERSON'],\n",
       " ['Sister Dhammadinna', 'PERSON'],\n",
       " ['six', 'CARDINAL'],\n",
       " ['Consciousness   Consciousness', 'ORG'],\n",
       " ['Dhamma', 'ORG'],\n",
       " ['First', 'ORDINAL'],\n",
       " ['Release', 'PRODUCT'],\n",
       " ['Dispassion', 'ORG'],\n",
       " ['Consciousness    Fabrications    ', 'ORG'],\n",
       " ['One', 'CARDINAL'],\n",
       " ['Consciousness', 'ORG'],\n",
       " ['Birth', 'PRODUCT'],\n",
       " ['second', 'ORDINAL']]"
      ]
     },
     "execution_count": 6,
     "metadata": {},
     "output_type": "execute_result"
    }
   ],
   "source": [
    "gp[:40]"
   ]
  },
  {
   "cell_type": "markdown",
   "metadata": {},
   "source": [
    "### Lemmatization - converting to root word"
   ]
  },
  {
   "cell_type": "code",
   "execution_count": 7,
   "metadata": {},
   "outputs": [
    {
     "data": {
      "text/plain": [
       "'ing   We have thought of ourselves  perhaps  as creatures moving upon this earth  rather helpless  at the mercy of storm and hunger and our enemies  We are to think of ourselves as immortals  dwelling in the Light  encompassed and sustained by spiritual powers  The steady effort to hold this thought will awaken dormant and unrealized powers  which will unveil to us the nearness of the Eternal   '"
      ]
     },
     "execution_count": 7,
     "metadata": {},
     "output_type": "execute_result"
    }
   ],
   "source": [
    "str(data[300])[:500]"
   ]
  },
  {
   "cell_type": "code",
   "execution_count": 8,
   "metadata": {},
   "outputs": [
    {
     "data": {
      "text/plain": [
       "'ing We have thought of ourselves perhaps a creature moving upon this earth rather helpless at the mercy of storm and hunger and our enemy We are to think of ourselves a immortal dwelling in the Light encompassed and sustained by spiritual power The steady effort to hold this thought will awaken dormant and unrealized power which will unveil to u the nearness of the Eternal'"
      ]
     },
     "execution_count": 8,
     "metadata": {},
     "output_type": "execute_result"
    }
   ],
   "source": [
    "tmp = \" \".join([Word(word).lemmatize() for word in str(data[300]).split()])\n",
    "tmp[:500]"
   ]
  },
  {
   "cell_type": "markdown",
   "metadata": {},
   "source": [
    "### Stemming - getting \"base\" of word"
   ]
  },
  {
   "cell_type": "code",
   "execution_count": 9,
   "metadata": {},
   "outputs": [
    {
     "data": {
      "text/plain": [
       "' set before thy face      And put a knife to thy throat  if it be so that thou have thy soul in thy own power      Be not desirous of his meats  in which is the bread of deceit      Labour not to be rich  but set bounds to thy prudence      Lift not up thy eyes to riches which thou canst not have  because they shall make themselves wings like those of an eagle  and shall fly towards heaven      Eat not with an envious man  and desire not his meats      Because  like a soothsayer  and diviner  he'"
      ]
     },
     "execution_count": 9,
     "metadata": {},
     "output_type": "execute_result"
    }
   ],
   "source": [
    "str(data[500])[:500]"
   ]
  },
  {
   "cell_type": "code",
   "execution_count": 11,
   "metadata": {},
   "outputs": [
    {
     "data": {
      "text/plain": [
       "'set befor thi face and put a knife to thi throat if it be so that thou have thi soul in thi own power Be not desir of hi meat in which is the bread of deceit labour not to be rich but set bound to thi prudenc lift not up thi eye to rich which thou canst not have becaus they shall make themselv wing like those of an eagl and shall fli toward heaven eat not with an enviou man and desir not hi meat becaus like a soothsay and divin he thinketh that which he knoweth not eat and drink will he say to '"
      ]
     },
     "execution_count": 11,
     "metadata": {},
     "output_type": "execute_result"
    }
   ],
   "source": [
    "tmp = \" \".join([Word(word).stem() for word in str(data[500]).split()])\n",
    "tmp[:499]"
   ]
  },
  {
   "cell_type": "code",
   "execution_count": 12,
   "metadata": {},
   "outputs": [
    {
     "data": {
      "text/plain": [
       "['set', 'befor', 'thi', 'face', 'and', 'put', 'a', 'knife', 'to', 'thi']"
      ]
     },
     "execution_count": 12,
     "metadata": {},
     "output_type": "execute_result"
    }
   ],
   "source": [
    "tmp = [Word(word).stem() for word in str(data[500]).split()]\n",
    "tmp[:10]"
   ]
  },
  {
   "cell_type": "code",
   "execution_count": 13,
   "metadata": {},
   "outputs": [
    {
     "data": {
      "text/plain": [
       "(['set', 'before', 'thy', 'face', 'And', 'put', 'a', 'knife', 'to', 'thy'],\n",
       " ['set', 'befor', 'thi', 'face', 'and', 'put', 'a', 'knife', 'to', 'thi'])"
      ]
     },
     "execution_count": 13,
     "metadata": {},
     "output_type": "execute_result"
    }
   ],
   "source": [
    "base = str(data[500]).split()\n",
    "stemmed = tmp\n",
    "base[:10], stemmed[:10]"
   ]
  },
  {
   "cell_type": "code",
   "execution_count": 14,
   "metadata": {},
   "outputs": [],
   "source": [
    "def get_ending(base, stemmed): \n",
    "    \"\"\"\n",
    "    returns list of endings, so it might be different length from original vectors (when there is no ending)\n",
    "    \"\"\"\n",
    "    \n",
    "    \n",
    "    out = []\n",
    "    \n",
    "    for i in range(len(base)): \n",
    "        st = stemmed[i]\n",
    "        bs = base[i]\n",
    "        diff = len(bs) - len(st)\n",
    "        \n",
    "        if diff > 0 : \n",
    "            out.append(base[i][-diff:])\n",
    "    \n",
    "    return(out)"
   ]
  },
  {
   "cell_type": "code",
   "execution_count": 15,
   "metadata": {},
   "outputs": [
    {
     "data": {
      "text/plain": [
       "['e', 'ous', 's', 's', 's', 'e', 's', 'es', 'e', 'es']"
      ]
     },
     "execution_count": 15,
     "metadata": {},
     "output_type": "execute_result"
    }
   ],
   "source": [
    "get_ending(base, stemmed)[:10]"
   ]
  },
  {
   "cell_type": "code",
   "execution_count": 16,
   "metadata": {},
   "outputs": [],
   "source": [
    "def count_endings(data):\n",
    "    n = len(data)\n",
    "    \n",
    "    dicts = [0 for i in range(n)]\n",
    "    for i in range(n):\n",
    "        chapter = data[i]\n",
    "        stemmed = [Word(word).stem() for word in str(chapter).split()]\n",
    "        base = str(chapter).split()\n",
    "        \n",
    "        endings = get_ending(base, stemmed)\n",
    "        \n",
    "        # makes dictionary\n",
    "        counted = Counter(endings)\n",
    "        dicts[i] = counted\n",
    "        \n",
    "    return(dicts)"
   ]
  },
  {
   "cell_type": "code",
   "execution_count": 17,
   "metadata": {},
   "outputs": [
    {
     "data": {
      "text/plain": [
       "[Counter({'ion': 30,\n",
       "          's': 51,\n",
       "          'ed': 19,\n",
       "          'er': 1,\n",
       "          'lful': 5,\n",
       "          'ful': 17,\n",
       "          'ences': 8,\n",
       "          'ely': 1,\n",
       "          'e': 9,\n",
       "          'ing': 7,\n",
       "          'ng': 3,\n",
       "          'eable': 1,\n",
       "          'ly': 2,\n",
       "          'es': 2,\n",
       "          'ated': 1,\n",
       "          'atives': 3}),\n",
       " Counter({'e': 11,\n",
       "          'ed': 5,\n",
       "          's': 20,\n",
       "          'ing': 8,\n",
       "          'es': 3,\n",
       "          'ous': 3,\n",
       "          'ment': 2,\n",
       "          'ion': 8,\n",
       "          'ation': 3}),\n",
       " Counter({'e': 16,\n",
       "          's': 36,\n",
       "          'ity': 4,\n",
       "          'ion': 11,\n",
       "          'ful': 8,\n",
       "          'ng': 5,\n",
       "          'ation': 4,\n",
       "          'd': 2,\n",
       "          'ting': 1,\n",
       "          'ed': 5,\n",
       "          'ing': 3,\n",
       "          'ates': 1,\n",
       "          'es': 2,\n",
       "          'ered': 1,\n",
       "          'ment': 1,\n",
       "          'fulness': 1,\n",
       "          'ative': 1,\n",
       "          'ions': 1}),\n",
       " Counter({'e': 31,\n",
       "          'ing': 9,\n",
       "          'ment': 1,\n",
       "          'ation': 4,\n",
       "          's': 30,\n",
       "          'ed': 11,\n",
       "          'ion': 6,\n",
       "          'ations': 2,\n",
       "          'ly': 2,\n",
       "          'led': 2}),\n",
       " Counter({'s': 2, 'fulness': 5, 'ation': 1, 'e': 1})]"
      ]
     },
     "execution_count": 17,
     "metadata": {},
     "output_type": "execute_result"
    }
   ],
   "source": [
    "list_of_endings = count_endings(data)\n",
    "list_of_endings[:5]"
   ]
  },
  {
   "cell_type": "markdown",
   "metadata": {},
   "source": [
    "### mamy narzędzia, co z tym zrobić? Modele! "
   ]
  },
  {
   "cell_type": "code",
   "execution_count": 19,
   "metadata": {},
   "outputs": [],
   "source": [
    "from sklearn.feature_extraction.text import TfidfTransformer, TfidfVectorizer, CountVectorizer\n",
    "from sklearn.metrics import accuracy_score\n",
    "from get_nice_text import *\n",
    "import pandas as pd\n",
    "import re\n",
    "import numpy as np\n",
    "from sklearn.cluster import KMeans\n",
    "from collections import Counter\n",
    "from textblob import Word\n",
    "import spacy \n",
    "nlp = spacy.load('en_core_web_sm') \n",
    "  "
   ]
  },
  {
   "cell_type": "code",
   "execution_count": 20,
   "metadata": {},
   "outputs": [],
   "source": [
    "data = get_nice_text()"
   ]
  },
  {
   "cell_type": "markdown",
   "metadata": {},
   "source": [
    "### Stemming "
   ]
  },
  {
   "cell_type": "code",
   "execution_count": 21,
   "metadata": {},
   "outputs": [],
   "source": [
    "stemmed = [0 for i in range(len(data))]\n",
    "for i in range(len(data)):\n",
    "    tmp = \" \".join([Word(word).stem() for word in str(data[i]).split()])\n",
    "    stemmed[i] = tmp"
   ]
  },
  {
   "cell_type": "code",
   "execution_count": 22,
   "metadata": {},
   "outputs": [
    {
     "data": {
      "text/plain": [
       "590"
      ]
     },
     "execution_count": 22,
     "metadata": {},
     "output_type": "execute_result"
    }
   ],
   "source": [
    "len(stemmed)"
   ]
  },
  {
   "cell_type": "code",
   "execution_count": 23,
   "metadata": {},
   "outputs": [],
   "source": [
    "cv = CountVectorizer(stop_words = 'english')\n",
    "df_count = cv.fit_transform(stemmed)"
   ]
  },
  {
   "cell_type": "code",
   "execution_count": 24,
   "metadata": {},
   "outputs": [],
   "source": [
    "count_vect_df = pd.DataFrame(df_count.todense(), columns=cv.get_feature_names())"
   ]
  },
  {
   "cell_type": "markdown",
   "metadata": {},
   "source": [
    "Przekształcając z macierzy rzadkiej otrzymujemy: "
   ]
  },
  {
   "cell_type": "code",
   "execution_count": 26,
   "metadata": {},
   "outputs": [
    {
     "data": {
      "text/html": [
       "<div>\n",
       "<style scoped>\n",
       "    .dataframe tbody tr th:only-of-type {\n",
       "        vertical-align: middle;\n",
       "    }\n",
       "\n",
       "    .dataframe tbody tr th {\n",
       "        vertical-align: top;\n",
       "    }\n",
       "\n",
       "    .dataframe thead th {\n",
       "        text-align: right;\n",
       "    }\n",
       "</style>\n",
       "<table border=\"1\" class=\"dataframe\">\n",
       "  <thead>\n",
       "    <tr style=\"text-align: right;\">\n",
       "      <th></th>\n",
       "      <th>aac</th>\n",
       "      <th>aaron</th>\n",
       "      <th>abandon</th>\n",
       "      <th>abas</th>\n",
       "      <th>abash</th>\n",
       "      <th>abat</th>\n",
       "      <th>abateth</th>\n",
       "      <th>aberr</th>\n",
       "      <th>abhor</th>\n",
       "      <th>abhorreth</th>\n",
       "      <th>...</th>\n",
       "      <th>yesterday</th>\n",
       "      <th>yield</th>\n",
       "      <th>yieldeth</th>\n",
       "      <th>yoga</th>\n",
       "      <th>yoke</th>\n",
       "      <th>young</th>\n",
       "      <th>yourselv</th>\n",
       "      <th>youth</th>\n",
       "      <th>zeal</th>\n",
       "      <th>zorobabel</th>\n",
       "    </tr>\n",
       "  </thead>\n",
       "  <tbody>\n",
       "    <tr>\n",
       "      <th>0</th>\n",
       "      <td>0</td>\n",
       "      <td>0</td>\n",
       "      <td>0</td>\n",
       "      <td>0</td>\n",
       "      <td>0</td>\n",
       "      <td>0</td>\n",
       "      <td>0</td>\n",
       "      <td>0</td>\n",
       "      <td>0</td>\n",
       "      <td>0</td>\n",
       "      <td>...</td>\n",
       "      <td>0</td>\n",
       "      <td>0</td>\n",
       "      <td>0</td>\n",
       "      <td>0</td>\n",
       "      <td>0</td>\n",
       "      <td>0</td>\n",
       "      <td>0</td>\n",
       "      <td>0</td>\n",
       "      <td>0</td>\n",
       "      <td>0</td>\n",
       "    </tr>\n",
       "    <tr>\n",
       "      <th>1</th>\n",
       "      <td>0</td>\n",
       "      <td>0</td>\n",
       "      <td>0</td>\n",
       "      <td>0</td>\n",
       "      <td>0</td>\n",
       "      <td>0</td>\n",
       "      <td>0</td>\n",
       "      <td>0</td>\n",
       "      <td>0</td>\n",
       "      <td>0</td>\n",
       "      <td>...</td>\n",
       "      <td>0</td>\n",
       "      <td>0</td>\n",
       "      <td>0</td>\n",
       "      <td>0</td>\n",
       "      <td>0</td>\n",
       "      <td>0</td>\n",
       "      <td>0</td>\n",
       "      <td>0</td>\n",
       "      <td>0</td>\n",
       "      <td>0</td>\n",
       "    </tr>\n",
       "    <tr>\n",
       "      <th>2</th>\n",
       "      <td>0</td>\n",
       "      <td>0</td>\n",
       "      <td>0</td>\n",
       "      <td>0</td>\n",
       "      <td>0</td>\n",
       "      <td>0</td>\n",
       "      <td>0</td>\n",
       "      <td>0</td>\n",
       "      <td>0</td>\n",
       "      <td>0</td>\n",
       "      <td>...</td>\n",
       "      <td>0</td>\n",
       "      <td>0</td>\n",
       "      <td>0</td>\n",
       "      <td>0</td>\n",
       "      <td>0</td>\n",
       "      <td>0</td>\n",
       "      <td>0</td>\n",
       "      <td>0</td>\n",
       "      <td>0</td>\n",
       "      <td>0</td>\n",
       "    </tr>\n",
       "    <tr>\n",
       "      <th>3</th>\n",
       "      <td>0</td>\n",
       "      <td>0</td>\n",
       "      <td>2</td>\n",
       "      <td>0</td>\n",
       "      <td>0</td>\n",
       "      <td>0</td>\n",
       "      <td>0</td>\n",
       "      <td>0</td>\n",
       "      <td>0</td>\n",
       "      <td>0</td>\n",
       "      <td>...</td>\n",
       "      <td>0</td>\n",
       "      <td>0</td>\n",
       "      <td>0</td>\n",
       "      <td>0</td>\n",
       "      <td>0</td>\n",
       "      <td>0</td>\n",
       "      <td>0</td>\n",
       "      <td>0</td>\n",
       "      <td>0</td>\n",
       "      <td>0</td>\n",
       "    </tr>\n",
       "    <tr>\n",
       "      <th>4</th>\n",
       "      <td>0</td>\n",
       "      <td>0</td>\n",
       "      <td>0</td>\n",
       "      <td>0</td>\n",
       "      <td>0</td>\n",
       "      <td>0</td>\n",
       "      <td>0</td>\n",
       "      <td>0</td>\n",
       "      <td>0</td>\n",
       "      <td>0</td>\n",
       "      <td>...</td>\n",
       "      <td>0</td>\n",
       "      <td>0</td>\n",
       "      <td>0</td>\n",
       "      <td>0</td>\n",
       "      <td>0</td>\n",
       "      <td>0</td>\n",
       "      <td>0</td>\n",
       "      <td>0</td>\n",
       "      <td>0</td>\n",
       "      <td>0</td>\n",
       "    </tr>\n",
       "    <tr>\n",
       "      <th>...</th>\n",
       "      <td>...</td>\n",
       "      <td>...</td>\n",
       "      <td>...</td>\n",
       "      <td>...</td>\n",
       "      <td>...</td>\n",
       "      <td>...</td>\n",
       "      <td>...</td>\n",
       "      <td>...</td>\n",
       "      <td>...</td>\n",
       "      <td>...</td>\n",
       "      <td>...</td>\n",
       "      <td>...</td>\n",
       "      <td>...</td>\n",
       "      <td>...</td>\n",
       "      <td>...</td>\n",
       "      <td>...</td>\n",
       "      <td>...</td>\n",
       "      <td>...</td>\n",
       "      <td>...</td>\n",
       "      <td>...</td>\n",
       "      <td>...</td>\n",
       "    </tr>\n",
       "    <tr>\n",
       "      <th>585</th>\n",
       "      <td>0</td>\n",
       "      <td>0</td>\n",
       "      <td>0</td>\n",
       "      <td>0</td>\n",
       "      <td>0</td>\n",
       "      <td>0</td>\n",
       "      <td>0</td>\n",
       "      <td>0</td>\n",
       "      <td>0</td>\n",
       "      <td>0</td>\n",
       "      <td>...</td>\n",
       "      <td>0</td>\n",
       "      <td>0</td>\n",
       "      <td>0</td>\n",
       "      <td>0</td>\n",
       "      <td>0</td>\n",
       "      <td>0</td>\n",
       "      <td>0</td>\n",
       "      <td>0</td>\n",
       "      <td>0</td>\n",
       "      <td>0</td>\n",
       "    </tr>\n",
       "    <tr>\n",
       "      <th>586</th>\n",
       "      <td>0</td>\n",
       "      <td>0</td>\n",
       "      <td>0</td>\n",
       "      <td>0</td>\n",
       "      <td>0</td>\n",
       "      <td>0</td>\n",
       "      <td>1</td>\n",
       "      <td>0</td>\n",
       "      <td>0</td>\n",
       "      <td>0</td>\n",
       "      <td>...</td>\n",
       "      <td>0</td>\n",
       "      <td>0</td>\n",
       "      <td>0</td>\n",
       "      <td>0</td>\n",
       "      <td>0</td>\n",
       "      <td>0</td>\n",
       "      <td>0</td>\n",
       "      <td>0</td>\n",
       "      <td>0</td>\n",
       "      <td>0</td>\n",
       "    </tr>\n",
       "    <tr>\n",
       "      <th>587</th>\n",
       "      <td>0</td>\n",
       "      <td>0</td>\n",
       "      <td>0</td>\n",
       "      <td>0</td>\n",
       "      <td>0</td>\n",
       "      <td>0</td>\n",
       "      <td>0</td>\n",
       "      <td>0</td>\n",
       "      <td>0</td>\n",
       "      <td>0</td>\n",
       "      <td>...</td>\n",
       "      <td>0</td>\n",
       "      <td>1</td>\n",
       "      <td>0</td>\n",
       "      <td>0</td>\n",
       "      <td>0</td>\n",
       "      <td>0</td>\n",
       "      <td>0</td>\n",
       "      <td>0</td>\n",
       "      <td>0</td>\n",
       "      <td>0</td>\n",
       "    </tr>\n",
       "    <tr>\n",
       "      <th>588</th>\n",
       "      <td>0</td>\n",
       "      <td>0</td>\n",
       "      <td>0</td>\n",
       "      <td>0</td>\n",
       "      <td>0</td>\n",
       "      <td>0</td>\n",
       "      <td>0</td>\n",
       "      <td>0</td>\n",
       "      <td>0</td>\n",
       "      <td>0</td>\n",
       "      <td>...</td>\n",
       "      <td>0</td>\n",
       "      <td>0</td>\n",
       "      <td>0</td>\n",
       "      <td>0</td>\n",
       "      <td>0</td>\n",
       "      <td>0</td>\n",
       "      <td>0</td>\n",
       "      <td>0</td>\n",
       "      <td>0</td>\n",
       "      <td>0</td>\n",
       "    </tr>\n",
       "    <tr>\n",
       "      <th>589</th>\n",
       "      <td>0</td>\n",
       "      <td>0</td>\n",
       "      <td>0</td>\n",
       "      <td>0</td>\n",
       "      <td>0</td>\n",
       "      <td>0</td>\n",
       "      <td>0</td>\n",
       "      <td>0</td>\n",
       "      <td>0</td>\n",
       "      <td>0</td>\n",
       "      <td>...</td>\n",
       "      <td>0</td>\n",
       "      <td>0</td>\n",
       "      <td>0</td>\n",
       "      <td>0</td>\n",
       "      <td>0</td>\n",
       "      <td>0</td>\n",
       "      <td>0</td>\n",
       "      <td>0</td>\n",
       "      <td>0</td>\n",
       "      <td>0</td>\n",
       "    </tr>\n",
       "  </tbody>\n",
       "</table>\n",
       "<p>590 rows × 5352 columns</p>\n",
       "</div>"
      ],
      "text/plain": [
       "     aac  aaron  abandon  abas  abash  abat  abateth  aberr  abhor  abhorreth  \\\n",
       "0      0      0        0     0      0     0        0      0      0          0   \n",
       "1      0      0        0     0      0     0        0      0      0          0   \n",
       "2      0      0        0     0      0     0        0      0      0          0   \n",
       "3      0      0        2     0      0     0        0      0      0          0   \n",
       "4      0      0        0     0      0     0        0      0      0          0   \n",
       "..   ...    ...      ...   ...    ...   ...      ...    ...    ...        ...   \n",
       "585    0      0        0     0      0     0        0      0      0          0   \n",
       "586    0      0        0     0      0     0        1      0      0          0   \n",
       "587    0      0        0     0      0     0        0      0      0          0   \n",
       "588    0      0        0     0      0     0        0      0      0          0   \n",
       "589    0      0        0     0      0     0        0      0      0          0   \n",
       "\n",
       "     ...  yesterday  yield  yieldeth  yoga  yoke  young  yourselv  youth  \\\n",
       "0    ...          0      0         0     0     0      0         0      0   \n",
       "1    ...          0      0         0     0     0      0         0      0   \n",
       "2    ...          0      0         0     0     0      0         0      0   \n",
       "3    ...          0      0         0     0     0      0         0      0   \n",
       "4    ...          0      0         0     0     0      0         0      0   \n",
       "..   ...        ...    ...       ...   ...   ...    ...       ...    ...   \n",
       "585  ...          0      0         0     0     0      0         0      0   \n",
       "586  ...          0      0         0     0     0      0         0      0   \n",
       "587  ...          0      1         0     0     0      0         0      0   \n",
       "588  ...          0      0         0     0     0      0         0      0   \n",
       "589  ...          0      0         0     0     0      0         0      0   \n",
       "\n",
       "     zeal  zorobabel  \n",
       "0       0          0  \n",
       "1       0          0  \n",
       "2       0          0  \n",
       "3       0          0  \n",
       "4       0          0  \n",
       "..    ...        ...  \n",
       "585     0          0  \n",
       "586     0          0  \n",
       "587     0          0  \n",
       "588     0          0  \n",
       "589     0          0  \n",
       "\n",
       "[590 rows x 5352 columns]"
      ]
     },
     "execution_count": 26,
     "metadata": {},
     "output_type": "execute_result"
    }
   ],
   "source": [
    "count_vect_df"
   ]
  },
  {
   "cell_type": "markdown",
   "metadata": {},
   "source": [
    "Co z zakończeniami? Użyjemy ich!"
   ]
  },
  {
   "cell_type": "code",
   "execution_count": 27,
   "metadata": {},
   "outputs": [],
   "source": [
    "def get_ending(base, stemmed): \n",
    "    \"\"\"\n",
    "    returns list of endings, so it might be different length from original vectors (when there is no ending)\n",
    "    \"\"\"\n",
    "\n",
    "\n",
    "    out = []\n",
    "\n",
    "    for i in range(len(base)): \n",
    "        st = stemmed[i]\n",
    "        bs = base[i]\n",
    "        diff = len(bs) - len(st)\n",
    "\n",
    "        if diff > 0 : \n",
    "            out.append(base[i][-diff:])\n",
    "\n",
    "    return(out)\n",
    "\n",
    "def count_endings(data):\n",
    "    \n",
    "    n = len(data)\n",
    "    \n",
    "    dicts = [0 for i in range(n)]\n",
    "    for i in range(n):\n",
    "        chapter = data[i]\n",
    "        stemmed = [Word(word).stem() for word in str(chapter).split()]\n",
    "        base = str(chapter).split()\n",
    "        \n",
    "        endings = get_ending(base, stemmed)\n",
    "        \n",
    "        # makes dictionary\n",
    "        counted = Counter(endings)\n",
    "        dicts[i] = counted\n",
    "        \n",
    "    return(dicts)"
   ]
  },
  {
   "cell_type": "code",
   "execution_count": 28,
   "metadata": {},
   "outputs": [],
   "source": [
    "def endings(data):\n",
    "    n = len(data)\n",
    "\n",
    "    endings = [0 for i in range(n)] \n",
    "\n",
    "    for i in range(n): \n",
    "        chapter = data[i]\n",
    "        stemmed = [Word(word).stem() for word in str(chapter).split()]\n",
    "        base = str(chapter).split()\n",
    "\n",
    "        ending = get_ending(base, stemmed)\n",
    "        tmp = \" \".join(ending)\n",
    "\n",
    "        endings[i] = tmp\n",
    "    \n",
    "    return endings\n"
   ]
  },
  {
   "cell_type": "code",
   "execution_count": 29,
   "metadata": {},
   "outputs": [],
   "source": [
    "endings = endings(data)"
   ]
  },
  {
   "cell_type": "code",
   "execution_count": 30,
   "metadata": {},
   "outputs": [],
   "source": [
    "cv = CountVectorizer(stop_words='english')\n",
    "endings_count = cv.fit_transform(endings)\n",
    "count_vect_endings = pd.DataFrame(endings_count.todense(), columns=cv.get_feature_names())"
   ]
  },
  {
   "cell_type": "code",
   "execution_count": 31,
   "metadata": {},
   "outputs": [
    {
     "data": {
      "text/html": [
       "<div>\n",
       "<style scoped>\n",
       "    .dataframe tbody tr th:only-of-type {\n",
       "        vertical-align: middle;\n",
       "    }\n",
       "\n",
       "    .dataframe tbody tr th {\n",
       "        vertical-align: top;\n",
       "    }\n",
       "\n",
       "    .dataframe thead th {\n",
       "        text-align: right;\n",
       "    }\n",
       "</style>\n",
       "<table border=\"1\" class=\"dataframe\">\n",
       "  <thead>\n",
       "    <tr style=\"text-align: right;\">\n",
       "      <th></th>\n",
       "      <th>aac</th>\n",
       "      <th>aaron</th>\n",
       "      <th>abandon</th>\n",
       "      <th>abas</th>\n",
       "      <th>abash</th>\n",
       "      <th>abat</th>\n",
       "      <th>abateth</th>\n",
       "      <th>aberr</th>\n",
       "      <th>abhor</th>\n",
       "      <th>abhorreth</th>\n",
       "      <th>...</th>\n",
       "      <th>ous</th>\n",
       "      <th>ously</th>\n",
       "      <th>ousness</th>\n",
       "      <th>ped</th>\n",
       "      <th>ping</th>\n",
       "      <th>pings</th>\n",
       "      <th>red</th>\n",
       "      <th>ring</th>\n",
       "      <th>ted</th>\n",
       "      <th>ting</th>\n",
       "    </tr>\n",
       "  </thead>\n",
       "  <tbody>\n",
       "    <tr>\n",
       "      <th>0</th>\n",
       "      <td>0</td>\n",
       "      <td>0</td>\n",
       "      <td>0</td>\n",
       "      <td>0</td>\n",
       "      <td>0</td>\n",
       "      <td>0</td>\n",
       "      <td>0</td>\n",
       "      <td>0</td>\n",
       "      <td>0</td>\n",
       "      <td>0</td>\n",
       "      <td>...</td>\n",
       "      <td>0</td>\n",
       "      <td>0</td>\n",
       "      <td>0</td>\n",
       "      <td>0</td>\n",
       "      <td>0</td>\n",
       "      <td>0</td>\n",
       "      <td>0</td>\n",
       "      <td>0</td>\n",
       "      <td>0</td>\n",
       "      <td>0</td>\n",
       "    </tr>\n",
       "    <tr>\n",
       "      <th>1</th>\n",
       "      <td>0</td>\n",
       "      <td>0</td>\n",
       "      <td>0</td>\n",
       "      <td>0</td>\n",
       "      <td>0</td>\n",
       "      <td>0</td>\n",
       "      <td>0</td>\n",
       "      <td>0</td>\n",
       "      <td>0</td>\n",
       "      <td>0</td>\n",
       "      <td>...</td>\n",
       "      <td>3</td>\n",
       "      <td>0</td>\n",
       "      <td>0</td>\n",
       "      <td>0</td>\n",
       "      <td>0</td>\n",
       "      <td>0</td>\n",
       "      <td>0</td>\n",
       "      <td>0</td>\n",
       "      <td>0</td>\n",
       "      <td>0</td>\n",
       "    </tr>\n",
       "    <tr>\n",
       "      <th>2</th>\n",
       "      <td>0</td>\n",
       "      <td>0</td>\n",
       "      <td>0</td>\n",
       "      <td>0</td>\n",
       "      <td>0</td>\n",
       "      <td>0</td>\n",
       "      <td>0</td>\n",
       "      <td>0</td>\n",
       "      <td>0</td>\n",
       "      <td>0</td>\n",
       "      <td>...</td>\n",
       "      <td>0</td>\n",
       "      <td>0</td>\n",
       "      <td>0</td>\n",
       "      <td>0</td>\n",
       "      <td>0</td>\n",
       "      <td>0</td>\n",
       "      <td>0</td>\n",
       "      <td>0</td>\n",
       "      <td>0</td>\n",
       "      <td>1</td>\n",
       "    </tr>\n",
       "    <tr>\n",
       "      <th>3</th>\n",
       "      <td>0</td>\n",
       "      <td>0</td>\n",
       "      <td>2</td>\n",
       "      <td>0</td>\n",
       "      <td>0</td>\n",
       "      <td>0</td>\n",
       "      <td>0</td>\n",
       "      <td>0</td>\n",
       "      <td>0</td>\n",
       "      <td>0</td>\n",
       "      <td>...</td>\n",
       "      <td>0</td>\n",
       "      <td>0</td>\n",
       "      <td>0</td>\n",
       "      <td>0</td>\n",
       "      <td>0</td>\n",
       "      <td>0</td>\n",
       "      <td>0</td>\n",
       "      <td>0</td>\n",
       "      <td>0</td>\n",
       "      <td>0</td>\n",
       "    </tr>\n",
       "    <tr>\n",
       "      <th>4</th>\n",
       "      <td>0</td>\n",
       "      <td>0</td>\n",
       "      <td>0</td>\n",
       "      <td>0</td>\n",
       "      <td>0</td>\n",
       "      <td>0</td>\n",
       "      <td>0</td>\n",
       "      <td>0</td>\n",
       "      <td>0</td>\n",
       "      <td>0</td>\n",
       "      <td>...</td>\n",
       "      <td>0</td>\n",
       "      <td>0</td>\n",
       "      <td>0</td>\n",
       "      <td>0</td>\n",
       "      <td>0</td>\n",
       "      <td>0</td>\n",
       "      <td>0</td>\n",
       "      <td>0</td>\n",
       "      <td>0</td>\n",
       "      <td>0</td>\n",
       "    </tr>\n",
       "    <tr>\n",
       "      <th>...</th>\n",
       "      <td>...</td>\n",
       "      <td>...</td>\n",
       "      <td>...</td>\n",
       "      <td>...</td>\n",
       "      <td>...</td>\n",
       "      <td>...</td>\n",
       "      <td>...</td>\n",
       "      <td>...</td>\n",
       "      <td>...</td>\n",
       "      <td>...</td>\n",
       "      <td>...</td>\n",
       "      <td>...</td>\n",
       "      <td>...</td>\n",
       "      <td>...</td>\n",
       "      <td>...</td>\n",
       "      <td>...</td>\n",
       "      <td>...</td>\n",
       "      <td>...</td>\n",
       "      <td>...</td>\n",
       "      <td>...</td>\n",
       "      <td>...</td>\n",
       "    </tr>\n",
       "    <tr>\n",
       "      <th>585</th>\n",
       "      <td>0</td>\n",
       "      <td>0</td>\n",
       "      <td>0</td>\n",
       "      <td>0</td>\n",
       "      <td>0</td>\n",
       "      <td>0</td>\n",
       "      <td>0</td>\n",
       "      <td>0</td>\n",
       "      <td>0</td>\n",
       "      <td>0</td>\n",
       "      <td>...</td>\n",
       "      <td>1</td>\n",
       "      <td>0</td>\n",
       "      <td>0</td>\n",
       "      <td>0</td>\n",
       "      <td>0</td>\n",
       "      <td>0</td>\n",
       "      <td>0</td>\n",
       "      <td>0</td>\n",
       "      <td>0</td>\n",
       "      <td>1</td>\n",
       "    </tr>\n",
       "    <tr>\n",
       "      <th>586</th>\n",
       "      <td>0</td>\n",
       "      <td>0</td>\n",
       "      <td>0</td>\n",
       "      <td>0</td>\n",
       "      <td>0</td>\n",
       "      <td>0</td>\n",
       "      <td>1</td>\n",
       "      <td>0</td>\n",
       "      <td>0</td>\n",
       "      <td>0</td>\n",
       "      <td>...</td>\n",
       "      <td>3</td>\n",
       "      <td>0</td>\n",
       "      <td>0</td>\n",
       "      <td>0</td>\n",
       "      <td>0</td>\n",
       "      <td>0</td>\n",
       "      <td>0</td>\n",
       "      <td>0</td>\n",
       "      <td>0</td>\n",
       "      <td>0</td>\n",
       "    </tr>\n",
       "    <tr>\n",
       "      <th>587</th>\n",
       "      <td>0</td>\n",
       "      <td>0</td>\n",
       "      <td>0</td>\n",
       "      <td>0</td>\n",
       "      <td>0</td>\n",
       "      <td>0</td>\n",
       "      <td>0</td>\n",
       "      <td>0</td>\n",
       "      <td>0</td>\n",
       "      <td>0</td>\n",
       "      <td>...</td>\n",
       "      <td>1</td>\n",
       "      <td>0</td>\n",
       "      <td>0</td>\n",
       "      <td>0</td>\n",
       "      <td>0</td>\n",
       "      <td>0</td>\n",
       "      <td>1</td>\n",
       "      <td>0</td>\n",
       "      <td>0</td>\n",
       "      <td>0</td>\n",
       "    </tr>\n",
       "    <tr>\n",
       "      <th>588</th>\n",
       "      <td>0</td>\n",
       "      <td>0</td>\n",
       "      <td>0</td>\n",
       "      <td>0</td>\n",
       "      <td>0</td>\n",
       "      <td>0</td>\n",
       "      <td>0</td>\n",
       "      <td>0</td>\n",
       "      <td>0</td>\n",
       "      <td>0</td>\n",
       "      <td>...</td>\n",
       "      <td>0</td>\n",
       "      <td>1</td>\n",
       "      <td>0</td>\n",
       "      <td>0</td>\n",
       "      <td>0</td>\n",
       "      <td>0</td>\n",
       "      <td>0</td>\n",
       "      <td>0</td>\n",
       "      <td>0</td>\n",
       "      <td>0</td>\n",
       "    </tr>\n",
       "    <tr>\n",
       "      <th>589</th>\n",
       "      <td>0</td>\n",
       "      <td>0</td>\n",
       "      <td>0</td>\n",
       "      <td>0</td>\n",
       "      <td>0</td>\n",
       "      <td>0</td>\n",
       "      <td>0</td>\n",
       "      <td>0</td>\n",
       "      <td>0</td>\n",
       "      <td>0</td>\n",
       "      <td>...</td>\n",
       "      <td>0</td>\n",
       "      <td>0</td>\n",
       "      <td>0</td>\n",
       "      <td>1</td>\n",
       "      <td>0</td>\n",
       "      <td>0</td>\n",
       "      <td>0</td>\n",
       "      <td>0</td>\n",
       "      <td>0</td>\n",
       "      <td>0</td>\n",
       "    </tr>\n",
       "  </tbody>\n",
       "</table>\n",
       "<p>590 rows × 5487 columns</p>\n",
       "</div>"
      ],
      "text/plain": [
       "     aac  aaron  abandon  abas  abash  abat  abateth  aberr  abhor  abhorreth  \\\n",
       "0      0      0        0     0      0     0        0      0      0          0   \n",
       "1      0      0        0     0      0     0        0      0      0          0   \n",
       "2      0      0        0     0      0     0        0      0      0          0   \n",
       "3      0      0        2     0      0     0        0      0      0          0   \n",
       "4      0      0        0     0      0     0        0      0      0          0   \n",
       "..   ...    ...      ...   ...    ...   ...      ...    ...    ...        ...   \n",
       "585    0      0        0     0      0     0        0      0      0          0   \n",
       "586    0      0        0     0      0     0        1      0      0          0   \n",
       "587    0      0        0     0      0     0        0      0      0          0   \n",
       "588    0      0        0     0      0     0        0      0      0          0   \n",
       "589    0      0        0     0      0     0        0      0      0          0   \n",
       "\n",
       "     ...  ous  ously  ousness  ped  ping  pings  red  ring  ted  ting  \n",
       "0    ...    0      0        0    0     0      0    0     0    0     0  \n",
       "1    ...    3      0        0    0     0      0    0     0    0     0  \n",
       "2    ...    0      0        0    0     0      0    0     0    0     1  \n",
       "3    ...    0      0        0    0     0      0    0     0    0     0  \n",
       "4    ...    0      0        0    0     0      0    0     0    0     0  \n",
       "..   ...  ...    ...      ...  ...   ...    ...  ...   ...  ...   ...  \n",
       "585  ...    1      0        0    0     0      0    0     0    0     1  \n",
       "586  ...    3      0        0    0     0      0    0     0    0     0  \n",
       "587  ...    1      0        0    0     0      0    1     0    0     0  \n",
       "588  ...    0      1        0    0     0      0    0     0    0     0  \n",
       "589  ...    0      0        0    1     0      0    0     0    0     0  \n",
       "\n",
       "[590 rows x 5487 columns]"
      ]
     },
     "execution_count": 31,
     "metadata": {},
     "output_type": "execute_result"
    }
   ],
   "source": [
    "whole_df = pd.concat([count_vect_df ,count_vect_endings], axis = 1) \n",
    "whole_df"
   ]
  },
  {
   "cell_type": "code",
   "execution_count": 32,
   "metadata": {},
   "outputs": [],
   "source": [
    "from scipy import sparse"
   ]
  },
  {
   "cell_type": "markdown",
   "metadata": {},
   "source": [
    "Mając macierz rzadką możemy zrobić model"
   ]
  },
  {
   "cell_type": "code",
   "execution_count": 34,
   "metadata": {},
   "outputs": [],
   "source": [
    "df = sparse.csr_matrix(whole_df)"
   ]
  },
  {
   "cell_type": "code",
   "execution_count": 35,
   "metadata": {},
   "outputs": [],
   "source": [
    "trans = TfidfTransformer()\n",
    "x = trans.fit_transform(df)"
   ]
  },
  {
   "cell_type": "code",
   "execution_count": 36,
   "metadata": {},
   "outputs": [],
   "source": [
    "model = KMeans(n_clusters=8, random_state = 123)\n",
    "lab = model.fit_predict(x)"
   ]
  },
  {
   "cell_type": "code",
   "execution_count": 37,
   "metadata": {},
   "outputs": [
    {
     "data": {
      "text/plain": [
       "array([4, 3, 3, 3, 3, 3, 4, 4, 4, 4, 4, 4, 4, 4, 4, 4, 3, 3, 4, 4, 3, 4,\n",
       "       4, 4, 4, 4, 4, 4, 3, 3, 3, 3, 3, 3, 3, 4, 3, 3, 3, 3, 3, 3, 4, 3,\n",
       "       3, 4, 4, 4, 4, 4, 4, 4, 4, 4, 4, 4, 4, 4, 4, 4, 4, 4, 4, 4, 4, 7,\n",
       "       4, 0, 4, 4, 4, 4, 4, 4, 4, 4, 4, 4, 4, 4, 4, 4, 4, 4, 4, 4, 4, 4,\n",
       "       4, 4, 4, 4, 4, 4, 4, 4, 4, 4, 4, 4, 4, 4, 4, 4, 4, 4, 4, 4, 4, 4,\n",
       "       4, 4, 4, 4, 4, 4, 4, 4, 4, 4, 4, 4, 4, 4, 4, 4, 4, 0, 4, 0, 0, 0,\n",
       "       0, 0, 0, 7, 7, 7, 7, 7, 7, 4, 4, 2, 4, 4, 4, 4, 4, 4, 4, 4, 4, 4,\n",
       "       6, 4, 4, 4, 1, 6, 7, 4, 4, 4, 1, 1, 4, 6, 4, 4, 6, 4, 4, 4, 6, 2,\n",
       "       4, 4, 7, 7, 7, 2, 0, 0, 0, 4, 4, 1, 1, 0, 4, 0, 4, 0, 0, 0, 0, 7,\n",
       "       0, 0, 4, 4, 4, 3, 4, 0, 0, 0, 0, 4, 4, 1, 0, 4, 4, 0, 4, 1, 1, 7,\n",
       "       1, 7, 7, 0, 0, 4, 0, 4, 7, 0, 4, 0, 4, 1, 4, 4, 0, 0, 0, 4, 1, 4,\n",
       "       1, 4, 4, 0, 0, 0, 0, 4, 0, 7, 7, 1, 1, 0, 0, 4, 2, 7, 7, 7, 7, 7,\n",
       "       1, 4, 1, 0, 1, 1, 1, 1, 1, 1, 1, 1, 1, 1, 1, 1, 1, 1, 1, 1, 7, 7,\n",
       "       3, 1, 2, 2, 2, 2, 2, 2, 2, 4, 4, 4, 2, 2, 2, 2, 2, 2, 2, 2, 4, 3,\n",
       "       4, 2, 2, 4, 2, 4, 2, 2, 2, 2, 2, 4, 4, 4, 2, 2, 4, 2, 4, 4, 0, 2,\n",
       "       2, 2, 2, 2, 2, 4, 2, 2, 2, 2, 2, 4, 2, 2, 4, 4, 2, 2, 2, 2, 2, 4,\n",
       "       0, 2, 2, 2, 2, 2, 2, 4, 4, 2, 2, 2, 2, 4, 3, 6, 2, 2, 4, 0, 2, 4,\n",
       "       4, 2, 2, 2, 0, 0, 2, 2, 2, 2, 2, 2, 3, 3, 4, 2, 2, 2, 2, 2, 2, 2,\n",
       "       2, 2, 2, 2, 2, 4, 4, 2, 4, 4, 2, 2, 4, 4, 0, 4, 4, 4, 4, 2, 2, 4,\n",
       "       2, 2, 2, 2, 2, 2, 2, 2, 2, 2, 2, 2, 2, 2, 2, 4, 4, 2, 4, 2, 2, 2,\n",
       "       4, 2, 2, 4, 2, 0, 2, 0, 2, 2, 4, 2, 2, 0, 2, 2, 2, 4, 7, 2, 4, 2,\n",
       "       2, 2, 2, 0, 2, 2, 2, 2, 4, 4, 2, 0, 6, 2, 2, 2, 5, 6, 6, 6, 6, 6,\n",
       "       6, 5, 6, 5, 5, 5, 5, 5, 5, 5, 5, 5, 5, 5, 5, 5, 6, 5, 6, 5, 6, 5,\n",
       "       5, 5, 5, 5, 5, 5, 5, 5, 5, 5, 5, 6, 5, 6, 5, 5, 5, 5, 6, 6, 6, 6,\n",
       "       6, 6, 5, 5, 6, 6, 5, 5, 5, 5, 5, 5, 5, 5, 5, 5, 5, 6, 5, 5, 5, 6,\n",
       "       5, 6, 6, 6, 5, 5, 6, 6, 5, 5, 5, 6, 5, 5, 5, 5, 5, 5, 5, 5, 6, 5,\n",
       "       5, 5, 5, 5, 5, 5, 5, 6, 5, 6, 6, 5, 5, 5, 6, 4, 6, 4], dtype=int32)"
      ]
     },
     "execution_count": 37,
     "metadata": {},
     "output_type": "execute_result"
    }
   ],
   "source": [
    "lab"
   ]
  },
  {
   "cell_type": "code",
   "execution_count": 38,
   "metadata": {},
   "outputs": [],
   "source": [
    "labels = get_labels(merge_Bible=False)"
   ]
  },
  {
   "cell_type": "code",
   "execution_count": 39,
   "metadata": {},
   "outputs": [
    {
     "name": "stdout",
     "output_type": "stream",
     "text": [
      "homogeneity_score = 0.5023963511990462\n",
      "completeness_score = 0.4841485155634507\n",
      "v_measure_score = 0.49310367090697976\n"
     ]
    }
   ],
   "source": [
    "from sklearn.metrics.cluster import homogeneity_score, completeness_score, v_measure_score\n",
    "print(\"homogeneity_score = {}\".format(homogeneity_score(labels, lab)))\n",
    "print(\"completeness_score = {}\".format(completeness_score(labels, lab)))\n",
    "print(\"v_measure_score = {}\".format(v_measure_score(labels, lab)))"
   ]
  },
  {
   "cell_type": "markdown",
   "metadata": {},
   "source": [
    "Dodajmy Entities "
   ]
  },
  {
   "cell_type": "code",
   "execution_count": 40,
   "metadata": {},
   "outputs": [],
   "source": [
    "def get_entities(data):\n",
    "\n",
    "    def unique(arr): \n",
    "    \n",
    "        un = []\n",
    "\n",
    "        for elem in arr: \n",
    "            if  elem not in un : \n",
    "                un.append(elem)\n",
    "\n",
    "        return un\n",
    "\n",
    "    entities_list = [[] for i in range(590)] # number of chapters\n",
    "    for i in range(len(data)):\n",
    "        chapter = str(data[i])\n",
    "        doc = nlp(chapter) \n",
    "\n",
    "        entities_in_chapter = []\n",
    "        for ent in doc.ents: \n",
    "            entities_in_chapter.append(ent.text)\n",
    "            \n",
    "        for j in range(len(entities_in_chapter)) : \n",
    "            ent = entities_in_chapter[j]\n",
    "            ent = \"\".join(ent.split())\n",
    "            entities_in_chapter[j] = ent\n",
    "        \n",
    "        \n",
    "        entities_list[i] =  \" \".join(entities_in_chapter)\n",
    "        \n",
    "            \n",
    "    out = entities_list\n",
    "    \n",
    "    return out"
   ]
  },
  {
   "cell_type": "code",
   "execution_count": 41,
   "metadata": {},
   "outputs": [],
   "source": [
    "ge = get_entities(data)"
   ]
  },
  {
   "cell_type": "code",
   "execution_count": 42,
   "metadata": {},
   "outputs": [],
   "source": [
    "cv = CountVectorizer(stop_words='english')\n",
    "entities_count = cv.fit_transform(ge)\n",
    "count_vect_entities = pd.DataFrame(entities_count.todense(), columns=cv.get_feature_names())"
   ]
  },
  {
   "cell_type": "markdown",
   "metadata": {},
   "source": [
    "Jeżeli jakieś entity już się znalazło we wcześniejszej ramce danych, to go nie dodamy."
   ]
  },
  {
   "cell_type": "code",
   "execution_count": 43,
   "metadata": {},
   "outputs": [],
   "source": [
    "nice_cols = []\n",
    "for i in range(len(count_vect_entities.columns)):\n",
    "    nice_cols.append(count_vect_entities.columns[i] not in list(whole_df.columns))"
   ]
  },
  {
   "cell_type": "code",
   "execution_count": 44,
   "metadata": {},
   "outputs": [
    {
     "data": {
      "text/html": [
       "<div>\n",
       "<style scoped>\n",
       "    .dataframe tbody tr th:only-of-type {\n",
       "        vertical-align: middle;\n",
       "    }\n",
       "\n",
       "    .dataframe tbody tr th {\n",
       "        vertical-align: top;\n",
       "    }\n",
       "\n",
       "    .dataframe thead th {\n",
       "        text-align: right;\n",
       "    }\n",
       "</style>\n",
       "<table border=\"1\" class=\"dataframe\">\n",
       "  <thead>\n",
       "    <tr style=\"text-align: right;\">\n",
       "      <th></th>\n",
       "      <th>absolute</th>\n",
       "      <th>absolutetruth</th>\n",
       "      <th>achiketas</th>\n",
       "      <th>aday</th>\n",
       "      <th>adorethee</th>\n",
       "      <th>afewyears</th>\n",
       "      <th>ages</th>\n",
       "      <th>ahundred</th>\n",
       "      <th>ahundredyears</th>\n",
       "      <th>allday</th>\n",
       "      <th>...</th>\n",
       "      <th>vinepower</th>\n",
       "      <th>virtue</th>\n",
       "      <th>vomens</th>\n",
       "      <th>whatsoever</th>\n",
       "      <th>windy</th>\n",
       "      <th>wisdomchapter</th>\n",
       "      <th>workmaster</th>\n",
       "      <th>works</th>\n",
       "      <th>yamas</th>\n",
       "      <th>years</th>\n",
       "    </tr>\n",
       "  </thead>\n",
       "  <tbody>\n",
       "    <tr>\n",
       "      <th>0</th>\n",
       "      <td>0</td>\n",
       "      <td>0</td>\n",
       "      <td>0</td>\n",
       "      <td>0</td>\n",
       "      <td>0</td>\n",
       "      <td>0</td>\n",
       "      <td>0</td>\n",
       "      <td>0</td>\n",
       "      <td>0</td>\n",
       "      <td>0</td>\n",
       "      <td>...</td>\n",
       "      <td>0</td>\n",
       "      <td>0</td>\n",
       "      <td>0</td>\n",
       "      <td>0</td>\n",
       "      <td>0</td>\n",
       "      <td>0</td>\n",
       "      <td>0</td>\n",
       "      <td>0</td>\n",
       "      <td>0</td>\n",
       "      <td>0</td>\n",
       "    </tr>\n",
       "    <tr>\n",
       "      <th>1</th>\n",
       "      <td>0</td>\n",
       "      <td>0</td>\n",
       "      <td>0</td>\n",
       "      <td>0</td>\n",
       "      <td>0</td>\n",
       "      <td>0</td>\n",
       "      <td>0</td>\n",
       "      <td>0</td>\n",
       "      <td>0</td>\n",
       "      <td>0</td>\n",
       "      <td>...</td>\n",
       "      <td>0</td>\n",
       "      <td>0</td>\n",
       "      <td>0</td>\n",
       "      <td>0</td>\n",
       "      <td>0</td>\n",
       "      <td>0</td>\n",
       "      <td>0</td>\n",
       "      <td>0</td>\n",
       "      <td>0</td>\n",
       "      <td>0</td>\n",
       "    </tr>\n",
       "    <tr>\n",
       "      <th>2</th>\n",
       "      <td>0</td>\n",
       "      <td>0</td>\n",
       "      <td>0</td>\n",
       "      <td>0</td>\n",
       "      <td>0</td>\n",
       "      <td>0</td>\n",
       "      <td>0</td>\n",
       "      <td>0</td>\n",
       "      <td>0</td>\n",
       "      <td>0</td>\n",
       "      <td>...</td>\n",
       "      <td>0</td>\n",
       "      <td>0</td>\n",
       "      <td>0</td>\n",
       "      <td>0</td>\n",
       "      <td>0</td>\n",
       "      <td>0</td>\n",
       "      <td>0</td>\n",
       "      <td>0</td>\n",
       "      <td>0</td>\n",
       "      <td>0</td>\n",
       "    </tr>\n",
       "    <tr>\n",
       "      <th>3</th>\n",
       "      <td>0</td>\n",
       "      <td>0</td>\n",
       "      <td>0</td>\n",
       "      <td>0</td>\n",
       "      <td>0</td>\n",
       "      <td>0</td>\n",
       "      <td>0</td>\n",
       "      <td>0</td>\n",
       "      <td>0</td>\n",
       "      <td>0</td>\n",
       "      <td>...</td>\n",
       "      <td>0</td>\n",
       "      <td>0</td>\n",
       "      <td>0</td>\n",
       "      <td>0</td>\n",
       "      <td>0</td>\n",
       "      <td>0</td>\n",
       "      <td>0</td>\n",
       "      <td>0</td>\n",
       "      <td>0</td>\n",
       "      <td>0</td>\n",
       "    </tr>\n",
       "    <tr>\n",
       "      <th>4</th>\n",
       "      <td>0</td>\n",
       "      <td>0</td>\n",
       "      <td>0</td>\n",
       "      <td>0</td>\n",
       "      <td>0</td>\n",
       "      <td>0</td>\n",
       "      <td>0</td>\n",
       "      <td>0</td>\n",
       "      <td>0</td>\n",
       "      <td>0</td>\n",
       "      <td>...</td>\n",
       "      <td>0</td>\n",
       "      <td>0</td>\n",
       "      <td>0</td>\n",
       "      <td>0</td>\n",
       "      <td>0</td>\n",
       "      <td>0</td>\n",
       "      <td>0</td>\n",
       "      <td>0</td>\n",
       "      <td>0</td>\n",
       "      <td>0</td>\n",
       "    </tr>\n",
       "    <tr>\n",
       "      <th>...</th>\n",
       "      <td>...</td>\n",
       "      <td>...</td>\n",
       "      <td>...</td>\n",
       "      <td>...</td>\n",
       "      <td>...</td>\n",
       "      <td>...</td>\n",
       "      <td>...</td>\n",
       "      <td>...</td>\n",
       "      <td>...</td>\n",
       "      <td>...</td>\n",
       "      <td>...</td>\n",
       "      <td>...</td>\n",
       "      <td>...</td>\n",
       "      <td>...</td>\n",
       "      <td>...</td>\n",
       "      <td>...</td>\n",
       "      <td>...</td>\n",
       "      <td>...</td>\n",
       "      <td>...</td>\n",
       "      <td>...</td>\n",
       "      <td>...</td>\n",
       "    </tr>\n",
       "    <tr>\n",
       "      <th>585</th>\n",
       "      <td>0</td>\n",
       "      <td>0</td>\n",
       "      <td>0</td>\n",
       "      <td>0</td>\n",
       "      <td>0</td>\n",
       "      <td>0</td>\n",
       "      <td>0</td>\n",
       "      <td>0</td>\n",
       "      <td>0</td>\n",
       "      <td>0</td>\n",
       "      <td>...</td>\n",
       "      <td>0</td>\n",
       "      <td>0</td>\n",
       "      <td>0</td>\n",
       "      <td>0</td>\n",
       "      <td>0</td>\n",
       "      <td>1</td>\n",
       "      <td>0</td>\n",
       "      <td>0</td>\n",
       "      <td>0</td>\n",
       "      <td>0</td>\n",
       "    </tr>\n",
       "    <tr>\n",
       "      <th>586</th>\n",
       "      <td>0</td>\n",
       "      <td>0</td>\n",
       "      <td>0</td>\n",
       "      <td>0</td>\n",
       "      <td>1</td>\n",
       "      <td>0</td>\n",
       "      <td>0</td>\n",
       "      <td>0</td>\n",
       "      <td>0</td>\n",
       "      <td>0</td>\n",
       "      <td>...</td>\n",
       "      <td>0</td>\n",
       "      <td>0</td>\n",
       "      <td>0</td>\n",
       "      <td>0</td>\n",
       "      <td>0</td>\n",
       "      <td>0</td>\n",
       "      <td>0</td>\n",
       "      <td>0</td>\n",
       "      <td>0</td>\n",
       "      <td>0</td>\n",
       "    </tr>\n",
       "    <tr>\n",
       "      <th>587</th>\n",
       "      <td>0</td>\n",
       "      <td>0</td>\n",
       "      <td>0</td>\n",
       "      <td>0</td>\n",
       "      <td>0</td>\n",
       "      <td>0</td>\n",
       "      <td>0</td>\n",
       "      <td>0</td>\n",
       "      <td>0</td>\n",
       "      <td>0</td>\n",
       "      <td>...</td>\n",
       "      <td>0</td>\n",
       "      <td>0</td>\n",
       "      <td>0</td>\n",
       "      <td>0</td>\n",
       "      <td>0</td>\n",
       "      <td>0</td>\n",
       "      <td>0</td>\n",
       "      <td>0</td>\n",
       "      <td>0</td>\n",
       "      <td>0</td>\n",
       "    </tr>\n",
       "    <tr>\n",
       "      <th>588</th>\n",
       "      <td>0</td>\n",
       "      <td>0</td>\n",
       "      <td>0</td>\n",
       "      <td>0</td>\n",
       "      <td>0</td>\n",
       "      <td>0</td>\n",
       "      <td>0</td>\n",
       "      <td>0</td>\n",
       "      <td>0</td>\n",
       "      <td>0</td>\n",
       "      <td>...</td>\n",
       "      <td>0</td>\n",
       "      <td>0</td>\n",
       "      <td>0</td>\n",
       "      <td>0</td>\n",
       "      <td>0</td>\n",
       "      <td>0</td>\n",
       "      <td>0</td>\n",
       "      <td>0</td>\n",
       "      <td>0</td>\n",
       "      <td>0</td>\n",
       "    </tr>\n",
       "    <tr>\n",
       "      <th>589</th>\n",
       "      <td>0</td>\n",
       "      <td>0</td>\n",
       "      <td>0</td>\n",
       "      <td>0</td>\n",
       "      <td>0</td>\n",
       "      <td>0</td>\n",
       "      <td>0</td>\n",
       "      <td>0</td>\n",
       "      <td>0</td>\n",
       "      <td>0</td>\n",
       "      <td>...</td>\n",
       "      <td>0</td>\n",
       "      <td>0</td>\n",
       "      <td>0</td>\n",
       "      <td>0</td>\n",
       "      <td>0</td>\n",
       "      <td>0</td>\n",
       "      <td>0</td>\n",
       "      <td>0</td>\n",
       "      <td>0</td>\n",
       "      <td>0</td>\n",
       "    </tr>\n",
       "  </tbody>\n",
       "</table>\n",
       "<p>590 rows × 389 columns</p>\n",
       "</div>"
      ],
      "text/plain": [
       "     absolute  absolutetruth  achiketas  aday  adorethee  afewyears  ages  \\\n",
       "0           0              0          0     0          0          0     0   \n",
       "1           0              0          0     0          0          0     0   \n",
       "2           0              0          0     0          0          0     0   \n",
       "3           0              0          0     0          0          0     0   \n",
       "4           0              0          0     0          0          0     0   \n",
       "..        ...            ...        ...   ...        ...        ...   ...   \n",
       "585         0              0          0     0          0          0     0   \n",
       "586         0              0          0     0          1          0     0   \n",
       "587         0              0          0     0          0          0     0   \n",
       "588         0              0          0     0          0          0     0   \n",
       "589         0              0          0     0          0          0     0   \n",
       "\n",
       "     ahundred  ahundredyears  allday  ...  vinepower  virtue  vomens  \\\n",
       "0           0              0       0  ...          0       0       0   \n",
       "1           0              0       0  ...          0       0       0   \n",
       "2           0              0       0  ...          0       0       0   \n",
       "3           0              0       0  ...          0       0       0   \n",
       "4           0              0       0  ...          0       0       0   \n",
       "..        ...            ...     ...  ...        ...     ...     ...   \n",
       "585         0              0       0  ...          0       0       0   \n",
       "586         0              0       0  ...          0       0       0   \n",
       "587         0              0       0  ...          0       0       0   \n",
       "588         0              0       0  ...          0       0       0   \n",
       "589         0              0       0  ...          0       0       0   \n",
       "\n",
       "     whatsoever  windy  wisdomchapter  workmaster  works  yamas  years  \n",
       "0             0      0              0           0      0      0      0  \n",
       "1             0      0              0           0      0      0      0  \n",
       "2             0      0              0           0      0      0      0  \n",
       "3             0      0              0           0      0      0      0  \n",
       "4             0      0              0           0      0      0      0  \n",
       "..          ...    ...            ...         ...    ...    ...    ...  \n",
       "585           0      0              1           0      0      0      0  \n",
       "586           0      0              0           0      0      0      0  \n",
       "587           0      0              0           0      0      0      0  \n",
       "588           0      0              0           0      0      0      0  \n",
       "589           0      0              0           0      0      0      0  \n",
       "\n",
       "[590 rows x 389 columns]"
      ]
     },
     "execution_count": 44,
     "metadata": {},
     "output_type": "execute_result"
    }
   ],
   "source": [
    "count_vect_entities.loc[:,nice_cols]"
   ]
  },
  {
   "cell_type": "markdown",
   "metadata": {},
   "source": [
    "Jak można zauważyć kilku członowe entities są sklejone w jeden człon. W końcu słoto to tylko liczba (w macierzy rzadkiej)"
   ]
  },
  {
   "cell_type": "code",
   "execution_count": 47,
   "metadata": {},
   "outputs": [
    {
     "data": {
      "text/html": [
       "<div>\n",
       "<style scoped>\n",
       "    .dataframe tbody tr th:only-of-type {\n",
       "        vertical-align: middle;\n",
       "    }\n",
       "\n",
       "    .dataframe tbody tr th {\n",
       "        vertical-align: top;\n",
       "    }\n",
       "\n",
       "    .dataframe thead th {\n",
       "        text-align: right;\n",
       "    }\n",
       "</style>\n",
       "<table border=\"1\" class=\"dataframe\">\n",
       "  <thead>\n",
       "    <tr style=\"text-align: right;\">\n",
       "      <th></th>\n",
       "      <th>aac</th>\n",
       "      <th>aaron</th>\n",
       "      <th>abandon</th>\n",
       "      <th>abas</th>\n",
       "      <th>abash</th>\n",
       "      <th>abat</th>\n",
       "      <th>abateth</th>\n",
       "      <th>aberr</th>\n",
       "      <th>abhor</th>\n",
       "      <th>abhorreth</th>\n",
       "      <th>...</th>\n",
       "      <th>works</th>\n",
       "      <th>xi</th>\n",
       "      <th>xii</th>\n",
       "      <th>yama</th>\n",
       "      <th>yamas</th>\n",
       "      <th>yea</th>\n",
       "      <th>years</th>\n",
       "      <th>yesterday</th>\n",
       "      <th>yoga</th>\n",
       "      <th>zorobabel</th>\n",
       "    </tr>\n",
       "  </thead>\n",
       "  <tbody>\n",
       "    <tr>\n",
       "      <th>0</th>\n",
       "      <td>0</td>\n",
       "      <td>0</td>\n",
       "      <td>0</td>\n",
       "      <td>0</td>\n",
       "      <td>0</td>\n",
       "      <td>0</td>\n",
       "      <td>0</td>\n",
       "      <td>0</td>\n",
       "      <td>0</td>\n",
       "      <td>0</td>\n",
       "      <td>...</td>\n",
       "      <td>0</td>\n",
       "      <td>0</td>\n",
       "      <td>0</td>\n",
       "      <td>0</td>\n",
       "      <td>0</td>\n",
       "      <td>0</td>\n",
       "      <td>0</td>\n",
       "      <td>0</td>\n",
       "      <td>0</td>\n",
       "      <td>0</td>\n",
       "    </tr>\n",
       "    <tr>\n",
       "      <th>1</th>\n",
       "      <td>0</td>\n",
       "      <td>0</td>\n",
       "      <td>0</td>\n",
       "      <td>0</td>\n",
       "      <td>0</td>\n",
       "      <td>0</td>\n",
       "      <td>0</td>\n",
       "      <td>0</td>\n",
       "      <td>0</td>\n",
       "      <td>0</td>\n",
       "      <td>...</td>\n",
       "      <td>0</td>\n",
       "      <td>0</td>\n",
       "      <td>0</td>\n",
       "      <td>0</td>\n",
       "      <td>0</td>\n",
       "      <td>0</td>\n",
       "      <td>0</td>\n",
       "      <td>0</td>\n",
       "      <td>0</td>\n",
       "      <td>0</td>\n",
       "    </tr>\n",
       "    <tr>\n",
       "      <th>2</th>\n",
       "      <td>0</td>\n",
       "      <td>0</td>\n",
       "      <td>0</td>\n",
       "      <td>0</td>\n",
       "      <td>0</td>\n",
       "      <td>0</td>\n",
       "      <td>0</td>\n",
       "      <td>0</td>\n",
       "      <td>0</td>\n",
       "      <td>0</td>\n",
       "      <td>...</td>\n",
       "      <td>0</td>\n",
       "      <td>0</td>\n",
       "      <td>0</td>\n",
       "      <td>0</td>\n",
       "      <td>0</td>\n",
       "      <td>0</td>\n",
       "      <td>0</td>\n",
       "      <td>0</td>\n",
       "      <td>0</td>\n",
       "      <td>0</td>\n",
       "    </tr>\n",
       "    <tr>\n",
       "      <th>3</th>\n",
       "      <td>0</td>\n",
       "      <td>0</td>\n",
       "      <td>2</td>\n",
       "      <td>0</td>\n",
       "      <td>0</td>\n",
       "      <td>0</td>\n",
       "      <td>0</td>\n",
       "      <td>0</td>\n",
       "      <td>0</td>\n",
       "      <td>0</td>\n",
       "      <td>...</td>\n",
       "      <td>0</td>\n",
       "      <td>0</td>\n",
       "      <td>0</td>\n",
       "      <td>0</td>\n",
       "      <td>0</td>\n",
       "      <td>0</td>\n",
       "      <td>0</td>\n",
       "      <td>0</td>\n",
       "      <td>0</td>\n",
       "      <td>0</td>\n",
       "    </tr>\n",
       "    <tr>\n",
       "      <th>4</th>\n",
       "      <td>0</td>\n",
       "      <td>0</td>\n",
       "      <td>0</td>\n",
       "      <td>0</td>\n",
       "      <td>0</td>\n",
       "      <td>0</td>\n",
       "      <td>0</td>\n",
       "      <td>0</td>\n",
       "      <td>0</td>\n",
       "      <td>0</td>\n",
       "      <td>...</td>\n",
       "      <td>0</td>\n",
       "      <td>0</td>\n",
       "      <td>0</td>\n",
       "      <td>0</td>\n",
       "      <td>0</td>\n",
       "      <td>0</td>\n",
       "      <td>0</td>\n",
       "      <td>0</td>\n",
       "      <td>0</td>\n",
       "      <td>0</td>\n",
       "    </tr>\n",
       "    <tr>\n",
       "      <th>...</th>\n",
       "      <td>...</td>\n",
       "      <td>...</td>\n",
       "      <td>...</td>\n",
       "      <td>...</td>\n",
       "      <td>...</td>\n",
       "      <td>...</td>\n",
       "      <td>...</td>\n",
       "      <td>...</td>\n",
       "      <td>...</td>\n",
       "      <td>...</td>\n",
       "      <td>...</td>\n",
       "      <td>...</td>\n",
       "      <td>...</td>\n",
       "      <td>...</td>\n",
       "      <td>...</td>\n",
       "      <td>...</td>\n",
       "      <td>...</td>\n",
       "      <td>...</td>\n",
       "      <td>...</td>\n",
       "      <td>...</td>\n",
       "      <td>...</td>\n",
       "    </tr>\n",
       "    <tr>\n",
       "      <th>585</th>\n",
       "      <td>0</td>\n",
       "      <td>0</td>\n",
       "      <td>0</td>\n",
       "      <td>0</td>\n",
       "      <td>0</td>\n",
       "      <td>0</td>\n",
       "      <td>0</td>\n",
       "      <td>0</td>\n",
       "      <td>0</td>\n",
       "      <td>0</td>\n",
       "      <td>...</td>\n",
       "      <td>0</td>\n",
       "      <td>0</td>\n",
       "      <td>0</td>\n",
       "      <td>0</td>\n",
       "      <td>0</td>\n",
       "      <td>0</td>\n",
       "      <td>0</td>\n",
       "      <td>0</td>\n",
       "      <td>0</td>\n",
       "      <td>0</td>\n",
       "    </tr>\n",
       "    <tr>\n",
       "      <th>586</th>\n",
       "      <td>0</td>\n",
       "      <td>0</td>\n",
       "      <td>0</td>\n",
       "      <td>0</td>\n",
       "      <td>0</td>\n",
       "      <td>0</td>\n",
       "      <td>1</td>\n",
       "      <td>0</td>\n",
       "      <td>0</td>\n",
       "      <td>0</td>\n",
       "      <td>...</td>\n",
       "      <td>0</td>\n",
       "      <td>0</td>\n",
       "      <td>0</td>\n",
       "      <td>0</td>\n",
       "      <td>0</td>\n",
       "      <td>0</td>\n",
       "      <td>0</td>\n",
       "      <td>0</td>\n",
       "      <td>0</td>\n",
       "      <td>0</td>\n",
       "    </tr>\n",
       "    <tr>\n",
       "      <th>587</th>\n",
       "      <td>0</td>\n",
       "      <td>0</td>\n",
       "      <td>0</td>\n",
       "      <td>0</td>\n",
       "      <td>0</td>\n",
       "      <td>0</td>\n",
       "      <td>0</td>\n",
       "      <td>0</td>\n",
       "      <td>0</td>\n",
       "      <td>0</td>\n",
       "      <td>...</td>\n",
       "      <td>0</td>\n",
       "      <td>0</td>\n",
       "      <td>0</td>\n",
       "      <td>0</td>\n",
       "      <td>0</td>\n",
       "      <td>0</td>\n",
       "      <td>0</td>\n",
       "      <td>0</td>\n",
       "      <td>0</td>\n",
       "      <td>0</td>\n",
       "    </tr>\n",
       "    <tr>\n",
       "      <th>588</th>\n",
       "      <td>0</td>\n",
       "      <td>0</td>\n",
       "      <td>0</td>\n",
       "      <td>0</td>\n",
       "      <td>0</td>\n",
       "      <td>0</td>\n",
       "      <td>0</td>\n",
       "      <td>0</td>\n",
       "      <td>0</td>\n",
       "      <td>0</td>\n",
       "      <td>...</td>\n",
       "      <td>0</td>\n",
       "      <td>0</td>\n",
       "      <td>0</td>\n",
       "      <td>0</td>\n",
       "      <td>0</td>\n",
       "      <td>0</td>\n",
       "      <td>0</td>\n",
       "      <td>0</td>\n",
       "      <td>0</td>\n",
       "      <td>0</td>\n",
       "    </tr>\n",
       "    <tr>\n",
       "      <th>589</th>\n",
       "      <td>0</td>\n",
       "      <td>0</td>\n",
       "      <td>0</td>\n",
       "      <td>0</td>\n",
       "      <td>0</td>\n",
       "      <td>0</td>\n",
       "      <td>0</td>\n",
       "      <td>0</td>\n",
       "      <td>0</td>\n",
       "      <td>0</td>\n",
       "      <td>...</td>\n",
       "      <td>0</td>\n",
       "      <td>0</td>\n",
       "      <td>0</td>\n",
       "      <td>0</td>\n",
       "      <td>0</td>\n",
       "      <td>0</td>\n",
       "      <td>0</td>\n",
       "      <td>0</td>\n",
       "      <td>0</td>\n",
       "      <td>0</td>\n",
       "    </tr>\n",
       "  </tbody>\n",
       "</table>\n",
       "<p>590 rows × 6193 columns</p>\n",
       "</div>"
      ],
      "text/plain": [
       "     aac  aaron  abandon  abas  abash  abat  abateth  aberr  abhor  abhorreth  \\\n",
       "0      0      0        0     0      0     0        0      0      0          0   \n",
       "1      0      0        0     0      0     0        0      0      0          0   \n",
       "2      0      0        0     0      0     0        0      0      0          0   \n",
       "3      0      0        2     0      0     0        0      0      0          0   \n",
       "4      0      0        0     0      0     0        0      0      0          0   \n",
       "..   ...    ...      ...   ...    ...   ...      ...    ...    ...        ...   \n",
       "585    0      0        0     0      0     0        0      0      0          0   \n",
       "586    0      0        0     0      0     0        1      0      0          0   \n",
       "587    0      0        0     0      0     0        0      0      0          0   \n",
       "588    0      0        0     0      0     0        0      0      0          0   \n",
       "589    0      0        0     0      0     0        0      0      0          0   \n",
       "\n",
       "     ...  works  xi  xii  yama  yamas  yea  years  yesterday  yoga  zorobabel  \n",
       "0    ...      0   0    0     0      0    0      0          0     0          0  \n",
       "1    ...      0   0    0     0      0    0      0          0     0          0  \n",
       "2    ...      0   0    0     0      0    0      0          0     0          0  \n",
       "3    ...      0   0    0     0      0    0      0          0     0          0  \n",
       "4    ...      0   0    0     0      0    0      0          0     0          0  \n",
       "..   ...    ...  ..  ...   ...    ...  ...    ...        ...   ...        ...  \n",
       "585  ...      0   0    0     0      0    0      0          0     0          0  \n",
       "586  ...      0   0    0     0      0    0      0          0     0          0  \n",
       "587  ...      0   0    0     0      0    0      0          0     0          0  \n",
       "588  ...      0   0    0     0      0    0      0          0     0          0  \n",
       "589  ...      0   0    0     0      0    0      0          0     0          0  \n",
       "\n",
       "[590 rows x 6193 columns]"
      ]
     },
     "execution_count": 47,
     "metadata": {},
     "output_type": "execute_result"
    }
   ],
   "source": [
    "absolute_whole_df = pd.concat([whole_df ,count_vect_entities], axis = 1) \n",
    "absolute_whole_df"
   ]
  },
  {
   "cell_type": "code",
   "execution_count": 48,
   "metadata": {},
   "outputs": [
    {
     "data": {
      "text/plain": [
       "array([6, 5, 5, 5, 5, 5, 7, 7, 5, 7, 7, 6, 5, 6, 5, 7, 5, 5, 5, 7, 5, 5,\n",
       "       7, 7, 7, 7, 6, 7, 6, 5, 6, 5, 5, 5, 6, 6, 6, 6, 6, 6, 5, 6, 6, 5,\n",
       "       5, 6, 3, 7, 3, 3, 3, 3, 3, 3, 3, 3, 5, 6, 7, 3, 3, 3, 3, 3, 3, 3,\n",
       "       3, 6, 3, 3, 3, 3, 3, 3, 3, 3, 3, 3, 3, 3, 3, 6, 3, 3, 3, 3, 3, 3,\n",
       "       6, 3, 3, 3, 3, 3, 3, 6, 3, 3, 3, 3, 3, 3, 3, 3, 3, 3, 3, 3, 3, 3,\n",
       "       3, 3, 3, 3, 6, 3, 6, 3, 3, 2, 6, 6, 3, 6, 3, 3, 3, 6, 6, 6, 6, 6,\n",
       "       6, 7, 6, 7, 6, 6, 7, 6, 6, 6, 6, 1, 2, 2, 6, 2, 2, 2, 6, 6, 2, 2,\n",
       "       2, 2, 2, 2, 2, 2, 6, 2, 2, 2, 2, 2, 6, 2, 2, 2, 2, 6, 6, 6, 2, 2,\n",
       "       6, 6, 6, 6, 6, 1, 2, 6, 6, 2, 6, 4, 6, 6, 6, 6, 6, 6, 6, 6, 6, 4,\n",
       "       6, 6, 6, 6, 6, 6, 6, 6, 6, 6, 6, 6, 6, 4, 6, 6, 6, 6, 6, 6, 6, 6,\n",
       "       6, 6, 6, 6, 6, 6, 6, 6, 6, 6, 6, 4, 1, 4, 6, 6, 6, 6, 7, 6, 4, 6,\n",
       "       4, 6, 6, 6, 6, 6, 6, 6, 6, 6, 6, 4, 6, 6, 6, 6, 1, 6, 4, 4, 4, 4,\n",
       "       4, 7, 4, 6, 4, 4, 4, 4, 4, 4, 4, 4, 4, 4, 4, 4, 4, 4, 4, 4, 4, 4,\n",
       "       6, 4, 7, 1, 1, 1, 6, 1, 1, 7, 7, 7, 1, 1, 1, 1, 1, 1, 7, 7, 7, 5,\n",
       "       6, 1, 1, 6, 7, 7, 1, 1, 1, 1, 1, 1, 1, 7, 7, 1, 6, 6, 7, 6, 7, 7,\n",
       "       1, 1, 7, 1, 1, 7, 1, 1, 1, 1, 1, 6, 1, 1, 1, 6, 1, 1, 1, 1, 1, 7,\n",
       "       6, 1, 1, 1, 1, 1, 1, 1, 6, 1, 1, 1, 7, 7, 7, 1, 1, 1, 3, 6, 1, 6,\n",
       "       6, 1, 1, 7, 7, 6, 1, 1, 1, 1, 1, 1, 7, 7, 7, 1, 1, 1, 7, 7, 7, 7,\n",
       "       1, 1, 1, 7, 7, 7, 7, 1, 7, 6, 1, 7, 7, 7, 7, 6, 6, 7, 7, 7, 1, 6,\n",
       "       1, 1, 1, 1, 1, 1, 7, 1, 1, 1, 1, 1, 1, 1, 1, 6, 1, 1, 1, 7, 1, 1,\n",
       "       6, 1, 7, 7, 1, 1, 1, 7, 7, 7, 1, 1, 1, 1, 1, 1, 7, 7, 6, 1, 7, 1,\n",
       "       1, 1, 1, 1, 1, 1, 6, 1, 6, 6, 7, 6, 1, 1, 1, 1, 0, 0, 0, 0, 0, 0,\n",
       "       0, 0, 0, 0, 0, 0, 0, 0, 0, 0, 0, 0, 0, 0, 0, 0, 0, 0, 0, 0, 0, 0,\n",
       "       0, 0, 0, 0, 0, 0, 0, 0, 0, 0, 0, 0, 0, 0, 0, 0, 0, 0, 0, 0, 0, 0,\n",
       "       0, 0, 0, 0, 0, 0, 0, 0, 0, 0, 0, 0, 0, 0, 0, 0, 0, 0, 0, 0, 0, 0,\n",
       "       0, 0, 0, 0, 0, 0, 0, 0, 0, 0, 0, 0, 0, 0, 0, 0, 0, 0, 0, 0, 0, 0,\n",
       "       0, 0, 0, 0, 0, 0, 0, 0, 0, 0, 0, 0, 0, 0, 0, 7, 0, 0], dtype=int32)"
      ]
     },
     "execution_count": 48,
     "metadata": {},
     "output_type": "execute_result"
    }
   ],
   "source": [
    "df = sparse.csr_matrix(absolute_whole_df)\n",
    "trans = TfidfTransformer()\n",
    "x = trans.fit_transform(df)\n",
    "model = KMeans(n_clusters=8, random_state = 123)\n",
    "lab2 = model.fit_predict(x)\n",
    "lab2"
   ]
  },
  {
   "cell_type": "code",
   "execution_count": 49,
   "metadata": {},
   "outputs": [
    {
     "name": "stdout",
     "output_type": "stream",
     "text": [
      "homogeneity_score = 0.6294831591759592\n",
      "completeness_score = 0.5764558150334008\n",
      "v_measure_score = 0.6018036324109727\n"
     ]
    }
   ],
   "source": [
    "from sklearn.metrics.cluster import homogeneity_score, completeness_score, v_measure_score\n",
    "print(\"homogeneity_score = {}\".format(homogeneity_score(labels, lab2)))\n",
    "print(\"completeness_score = {}\".format(completeness_score(labels, lab2)))\n",
    "print(\"v_measure_score = {}\".format(v_measure_score(labels, lab2)))"
   ]
  },
  {
   "cell_type": "code",
   "execution_count": 50,
   "metadata": {},
   "outputs": [
    {
     "name": "stdout",
     "output_type": "stream",
     "text": [
      "homogeneity_score = 0.5561627871233038\n",
      "completeness_score = 0.6410034069721171\n",
      "v_measure_score = 0.5955768599806133\n"
     ]
    }
   ],
   "source": [
    "df = sparse.csr_matrix(absolute_whole_df)\n",
    "trans = TfidfTransformer()\n",
    "x = trans.fit_transform(df)\n",
    "model = KMeans(n_clusters=5, random_state = 123)\n",
    "lab2 = model.fit_predict(x)\n",
    "\n",
    "labels= get_labels(True)\n",
    "\n",
    "print(\"homogeneity_score = {}\".format(homogeneity_score(labels, lab2)))\n",
    "print(\"completeness_score = {}\".format(completeness_score(labels, lab2)))\n",
    "print(\"v_measure_score = {}\".format(v_measure_score(labels, lab2)))"
   ]
  },
  {
   "cell_type": "markdown",
   "metadata": {},
   "source": [
    "## Podsumowanie i przyszłe prace\n",
    "Mamy już narzędzia do tworzenia modeli, pozostało nam wybrać najlepszy poprzez wybrane już metryki. "
   ]
  }
 ],
 "metadata": {
  "kernelspec": {
   "display_name": "Python 3",
   "language": "python",
   "name": "python3"
  },
  "language_info": {
   "codemirror_mode": {
    "name": "ipython",
    "version": 3
   },
   "file_extension": ".py",
   "mimetype": "text/x-python",
   "name": "python",
   "nbconvert_exporter": "python",
   "pygments_lexer": "ipython3",
   "version": "3.7.6"
  }
 },
 "nbformat": 4,
 "nbformat_minor": 4
}
